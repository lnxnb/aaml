{
 "cells": [
  {
   "cell_type": "markdown",
   "metadata": {
    "id": "CYjqG45ocB3a"
   },
   "source": [
    "# <font color='navy' size='6px'>Advanced Applied Machine Learning - DATA 441</font>\n",
    "\n",
    "## Main References:\n",
    "\n",
    "\n",
    "<table><tr>\n",
    "<td> <img src='https://m.media-amazon.com/images/I/81kAZnv3-sL._SY522_.jpg'width='300px'/><figcaption><a href=\"https://www.amazon.com/Programming-PyTorch-Deep-Learning-Applications/dp/1492045357/ref=sr_1_1?crid=17LZV9ZGD8IN8&keywords=ian+Pointer+Pytorch&qid=1705797579&sprefix=ian+pointer+pytorch%2Caps%2C98&sr=8-1\" target=\"_blank\">Programming PyTorch for Deep Learning</a></figcaption> </td>\n",
    "<td> <img src='https://m.media-amazon.com/images/I/61NfFcHXGxL._SY522_.jpg'width='335px'/>\n",
    "<figcaption><a href=\"https://www.amazon.com/Machine-Learning-Probabilistic-Perspective-Computation/dp/0262018020/ref=sr_1_1?crid=2XEYSNAJG77SK&keywords=Machine+learning+a+probabilistic+perspective&qid=1705788801&sprefix=machine+learning+a+probabilistic+perspective%2Caps%2C101&sr=8-1&ufe=app_do%3Aamzn1.fos.18ed3cb5-28d5-4975-8bc7-93deae8f9840\" target=\"_blank\">Machine Learning: A Probabilistic Perspective</a></figcaption> </td>\n",
    "</tr></table>"
   ]
  },
  {
   "cell_type": "markdown",
   "metadata": {
    "id": "Yp4nwy3KPUyH"
   },
   "source": [
    "## Github Repositories\n",
    "\n",
    "Create a portfolio for your data projects.\n",
    "\n",
    "https://docs.github.com/en/pages/quickstart"
   ]
  },
  {
   "cell_type": "markdown",
   "metadata": {
    "id": "9oK1E7tqHlbk"
   },
   "source": [
    "# <font color='navy' size='6px'> PyTorch vs NumPy </font>"
   ]
  },
  {
   "cell_type": "code",
   "execution_count": 1,
   "metadata": {
    "id": "fzAkBnjnb9nh"
   },
   "outputs": [],
   "source": [
    "import torch\n",
    "import numpy as np"
   ]
  },
  {
   "cell_type": "code",
   "execution_count": 2,
   "metadata": {
    "colab": {
     "base_uri": "https://localhost:8080/"
    },
    "id": "rtMu37zp7e_m",
    "outputId": "a02f5f2c-8f6e-40d6-bb53-3e9ab63c85e8"
   },
   "outputs": [
    {
     "name": "stdout",
     "output_type": "stream",
     "text": [
      "False\n"
     ]
    }
   ],
   "source": [
    "print(torch.cuda.is_available())"
   ]
  },
  {
   "cell_type": "code",
   "execution_count": 6,
   "metadata": {
    "id": "QZEC_f5B7nTf"
   },
   "outputs": [],
   "source": [
    "device = torch.device(\"cpu\")\n",
    "dtype = torch.float"
   ]
  },
  {
   "cell_type": "code",
   "execution_count": 10,
   "metadata": {
    "colab": {
     "base_uri": "https://localhost:8080/"
    },
    "id": "AW85FzUocQS6",
    "outputId": "4c7f3c6b-ebfb-49de-d7b4-777f33e0510f"
   },
   "outputs": [
    {
     "name": "stdout",
     "output_type": "stream",
     "text": [
      "tensor([[0.0318, 0.6511, 0.0093],\n",
      "        [0.9141, 0.6529, 0.0494],\n",
      "        [0.6637, 0.6696, 0.5385]])\n"
     ]
    }
   ],
   "source": [
    "a = torch.rand(3,3)\n",
    "print(a)"
   ]
  },
  {
   "cell_type": "code",
   "execution_count": 11,
   "metadata": {
    "colab": {
     "base_uri": "https://localhost:8080/"
    },
    "id": "GQqh5RfC6ssA",
    "outputId": "634908bf-35b8-42be-a79c-9e42d1773057"
   },
   "outputs": [
    {
     "data": {
      "text/plain": [
       "tensor([[0.0318, 0.6511, 0.0093, 0.9141, 0.6529, 0.0494, 0.6637, 0.6696, 0.5385]])"
      ]
     },
     "execution_count": 11,
     "metadata": {},
     "output_type": "execute_result"
    }
   ],
   "source": [
    "a.view(1,9)"
   ]
  },
  {
   "cell_type": "code",
   "execution_count": 12,
   "metadata": {
    "colab": {
     "base_uri": "https://localhost:8080/"
    },
    "id": "FarJ5g38IPaj",
    "outputId": "788f73d2-6ea0-4381-fe7d-76313cef719f"
   },
   "outputs": [
    {
     "data": {
      "text/plain": [
       "tensor([0.0318, 0.6511, 0.0093, 0.9141, 0.6529, 0.0494, 0.6637, 0.6696, 0.5385])"
      ]
     },
     "execution_count": 12,
     "metadata": {},
     "output_type": "execute_result"
    }
   ],
   "source": [
    "a.flatten()"
   ]
  },
  {
   "cell_type": "code",
   "execution_count": 13,
   "metadata": {
    "colab": {
     "base_uri": "https://localhost:8080/"
    },
    "id": "YUwfeJ71ITMl",
    "outputId": "4bf1652d-45cb-4ad5-a940-b3038c93520a"
   },
   "outputs": [
    {
     "data": {
      "text/plain": [
       "tensor([[0.0318, 0.6511, 0.0093],\n",
       "        [0.9141, 0.6529, 0.0494],\n",
       "        [0.6637, 0.6696, 0.5385]])"
      ]
     },
     "execution_count": 13,
     "metadata": {},
     "output_type": "execute_result"
    }
   ],
   "source": [
    "a"
   ]
  },
  {
   "cell_type": "markdown",
   "metadata": {
    "id": "bR0h03lFHh-s"
   },
   "source": [
    "<font size=5px> Most functions that operate on a tensor and return a tensor create a new tensor to store the result. However, if you want to save memory, look to see if an inplace function is defined, which should be the same name as the original function but with an appended underscore (_)."
   ]
  },
  {
   "cell_type": "code",
   "execution_count": 20,
   "metadata": {
    "colab": {
     "base_uri": "https://localhost:8080/"
    },
    "id": "DqXCXs9RB0WM",
    "outputId": "a20833b4-ae40-47b3-d4ed-187f9a8e9ac7"
   },
   "outputs": [
    {
     "data": {
      "text/plain": [
       "tensor([[-4.9734, -0.6191, -6.7471],\n",
       "        [-0.1295, -0.6150, -4.3403],\n",
       "        [-0.5914, -0.5787, -0.8929]])"
      ]
     },
     "execution_count": 20,
     "metadata": {},
     "output_type": "execute_result"
    }
   ],
   "source": [
    "a.log2()"
   ]
  },
  {
   "cell_type": "code",
   "execution_count": 21,
   "metadata": {
    "colab": {
     "base_uri": "https://localhost:8080/"
    },
    "id": "PbYRlK6jIWO2",
    "outputId": "5c9f4e76-daad-4d29-c181-25e8bbfd22ba"
   },
   "outputs": [
    {
     "data": {
      "text/plain": [
       "tensor([[0.0318, 0.6511, 0.0093],\n",
       "        [0.9141, 0.6529, 0.0494],\n",
       "        [0.6637, 0.6696, 0.5385]])"
      ]
     },
     "execution_count": 21,
     "metadata": {},
     "output_type": "execute_result"
    }
   ],
   "source": [
    "a # this means that the we saw log2 transformation of a, but \"a\" itself hasn't changed."
   ]
  },
  {
   "cell_type": "code",
   "execution_count": 22,
   "metadata": {
    "colab": {
     "base_uri": "https://localhost:8080/"
    },
    "id": "2VavgmVkIy3w",
    "outputId": "c66d6c9a-b68f-4022-d917-d2deb5a579ad"
   },
   "outputs": [
    {
     "data": {
      "text/plain": [
       "tensor([[-4.9734, -0.6191, -6.7471],\n",
       "        [-0.1295, -0.6150, -4.3403],\n",
       "        [-0.5914, -0.5787, -0.8929]])"
      ]
     },
     "execution_count": 22,
     "metadata": {},
     "output_type": "execute_result"
    }
   ],
   "source": [
    "a.log2_() # here we just replaced a with log2(a)."
   ]
  },
  {
   "cell_type": "code",
   "execution_count": 23,
   "metadata": {
    "colab": {
     "base_uri": "https://localhost:8080/"
    },
    "id": "Mm0NglTHJLgn",
    "outputId": "08f56831-5bb9-4c63-fc9f-86839f31d548"
   },
   "outputs": [
    {
     "data": {
      "text/plain": [
       "tensor([[-4.9734, -0.6191, -6.7471],\n",
       "        [-0.1295, -0.6150, -4.3403],\n",
       "        [-0.5914, -0.5787, -0.8929]])"
      ]
     },
     "execution_count": 23,
     "metadata": {},
     "output_type": "execute_result"
    }
   ],
   "source": [
    "a # the verification that the replacement took place."
   ]
  },
  {
   "cell_type": "code",
   "execution_count": 24,
   "metadata": {
    "id": "72IM41ov7CPv"
   },
   "outputs": [],
   "source": [
    "# the following is a tensor registered with single precision\n",
    "u = torch.tensor([[0,0,1],[1,1,1],[0,0,0]]).to(dtype=torch.float32)"
   ]
  },
  {
   "cell_type": "code",
   "execution_count": 25,
   "metadata": {
    "colab": {
     "base_uri": "https://localhost:8080/"
    },
    "id": "EMmsQIngA0Jd",
    "outputId": "76bb3f11-dd4e-4b1d-b314-47041aafb3e8"
   },
   "outputs": [
    {
     "data": {
      "text/plain": [
       "tensor([[0., 0., 1.],\n",
       "        [1., 1., 1.],\n",
       "        [0., 0., 0.]])"
      ]
     },
     "execution_count": 25,
     "metadata": {},
     "output_type": "execute_result"
    }
   ],
   "source": [
    "u"
   ]
  },
  {
   "cell_type": "code",
   "execution_count": 26,
   "metadata": {
    "id": "Mjk-8CuSE1c0"
   },
   "outputs": [],
   "source": [
    "# the following is a tensor registered with double precision\n",
    "v = torch.tensor([[2,-3,4],[3,9,1],[1,5,2]]).to(dtype=torch.float64)"
   ]
  },
  {
   "cell_type": "code",
   "execution_count": 27,
   "metadata": {
    "colab": {
     "base_uri": "https://localhost:8080/"
    },
    "id": "gPPXFIPcFm2g",
    "outputId": "c434f785-6380-454d-db9b-57909675f117"
   },
   "outputs": [
    {
     "data": {
      "text/plain": [
       "tensor([[ 2., -3.,  4.],\n",
       "        [ 3.,  9.,  1.],\n",
       "        [ 1.,  5.,  2.]], dtype=torch.float64)"
      ]
     },
     "execution_count": 27,
     "metadata": {},
     "output_type": "execute_result"
    }
   ],
   "source": [
    "v"
   ]
  },
  {
   "cell_type": "code",
   "execution_count": 28,
   "metadata": {
    "colab": {
     "base_uri": "https://localhost:8080/"
    },
    "id": "C_ihomAOF4-B",
    "outputId": "73a48553-7b76-458b-9939-2ec292ac0c5b"
   },
   "outputs": [
    {
     "data": {
      "text/plain": [
       "tensor([[ 2., -3.,  5.],\n",
       "        [ 4., 10.,  2.],\n",
       "        [ 1.,  5.,  2.]], dtype=torch.float64)"
      ]
     },
     "execution_count": 28,
     "metadata": {},
     "output_type": "execute_result"
    }
   ],
   "source": [
    "# what happens if we try to mix precisions?\n",
    "u + v"
   ]
  },
  {
   "cell_type": "markdown",
   "metadata": {
    "id": "aaezVqChPPlV"
   },
   "source": [
    "## Broadcasting\n",
    "\n",
    "\n",
    "Broadcasting in NumPy is a powerful feature that allows you to perform element-wise operations on arrays of different shapes without explicitly looping through them. It basically \"stretches\" the smaller array to match the shape of the larger one, enabling efficient calculations.\n",
    "\n",
    "The main ideas:\n",
    "\n",
    "- Arrays with compatible shapes can directly perform element-wise operations.\n",
    "- If arrays have different shapes, broadcasting kicks in under certain conditions:\n",
    "  * Dimensions with the same size are treated normally.\n",
    "\n",
    "  * Dimensions with size 1 can be \"stretched\" to match any other dimension. This is the core of broadcasting. For example, a scalar (dimension size 0) can be stretched to match any larger dimension.\n",
    "\n",
    "- Arrays with more dimensions than others are prepended with implicit dimensions of size 1 to match the others.\n",
    "\n",
    "### Example\n",
    "\n",
    "Imagine having an array of temperatures temperature_city for each city (shape: (3,)), and an array of wind speeds wind_speed for each day (shape: (5,)). You want to calculate the wind chill factor for each city on each day. Normally, you'd need to loop, but broadcasting comes to the rescue!\n",
    "\n",
    "wind_speed gets stretched to have a shape of (3, 5) by duplicating its values across the city dimension.\n",
    "Each element of temperature_city is element-wise multiplied with the corresponding \"stretched\" elements of wind_speed.\n",
    "The result is an array of wind chill factors with shape (3, 5), one for each city on each day.\n",
    "Essentially, broadcasting saves you from tedious loops and unnecessary data copying, making your code concise and efficient.\n",
    "\n",
    "### Important\n",
    "\n",
    "Not all combinations of shapes are broadcastable. For example, an array of (2,) cannot be broadcast to an array of (3,).\n",
    "The order of operations can matter with broadcasting, as stretching happens earlier than element-wise operations."
   ]
  },
  {
   "cell_type": "code",
   "execution_count": null,
   "metadata": {
    "colab": {
     "base_uri": "https://localhost:8080/"
    },
    "id": "OyYa-p2lRyCn",
    "outputId": "af7f1791-ec25-4e46-e53e-2ebe02a92036"
   },
   "outputs": [
    {
     "name": "stdout",
     "output_type": "stream",
     "text": [
      "Wind chill factor for each city on each day:\n",
      "[[22.87484473 24.97509206 26.42374379 27.546397   28.47033466]\n",
      " [17.15613355 18.73131904 19.81780784 20.65979775 21.352751  ]\n",
      " [11.43742237 12.48754603 13.2118719  13.7731985  14.23516733]]\n"
     ]
    }
   ],
   "source": [
    "# coding example in NumPy\n",
    "import numpy as np\n",
    "\n",
    "# City temperatures (3 cities)\n",
    "temperature_city = np.array([20, 15, 10])\n",
    "\n",
    "# Wind speeds for each day (5 days)\n",
    "wind_speed = np.array([5, 10, 15, 20, 25])\n",
    "\n",
    "# Calculate wind chill factor using broadcasting\n",
    "wind_chill = temperature_city[:, np.newaxis] * (0.6215 + 0.3387 * wind_speed) ** 0.16\n",
    "\n",
    "print(\"Wind chill factor for each city on each day:\")\n",
    "print(wind_chill)"
   ]
  },
  {
   "cell_type": "markdown",
   "metadata": {
    "id": "awXJWhgwSY9O"
   },
   "source": [
    "## Broadcasting in PyTorch\n",
    "\n",
    "Broadcasting syntax: PyTorch also uses None to add a new dimension for broadcasting, just like NumPy's np.newaxis."
   ]
  },
  {
   "cell_type": "code",
   "execution_count": null,
   "metadata": {
    "colab": {
     "base_uri": "https://localhost:8080/"
    },
    "id": "Yv4gpX3hUtFW",
    "outputId": "1f2365ac-3124-483a-f774-275cda08bff3"
   },
   "outputs": [
    {
     "name": "stdout",
     "output_type": "stream",
     "text": [
      "Wind chill factor for each city on each day:\n",
      "tensor([[22.8748, 24.9751, 26.4237, 27.5464, 28.4703],\n",
      "        [17.1561, 18.7313, 19.8178, 20.6598, 21.3528],\n",
      "        [11.4374, 12.4875, 13.2119, 13.7732, 14.2352]])\n"
     ]
    }
   ],
   "source": [
    "# City temperatures (3 cities)\n",
    "temperature_city = torch.tensor([20, 15, 10])\n",
    "\n",
    "# Wind speeds for each day (5 days)\n",
    "wind_speed = torch.tensor([5, 10, 15, 20, 25])\n",
    "\n",
    "# Calculate wind chill factor using broadcasting\n",
    "wind_chill = temperature_city[:, None] * (0.6215 + 0.3387 * wind_speed) ** 0.16\n",
    "\n",
    "print(\"Wind chill factor for each city on each day:\")\n",
    "print(wind_chill)"
   ]
  },
  {
   "cell_type": "code",
   "execution_count": null,
   "metadata": {
    "colab": {
     "base_uri": "https://localhost:8080/"
    },
    "id": "AaDgHH0kGIaC",
    "outputId": "7d2e3e1c-a05b-4de9-e142-46ed20bb8930"
   },
   "outputs": [
    {
     "data": {
      "text/plain": [
       "tensor([[-0.4046, -4.3609,  3.3647],\n",
       "        [ 0.5954,  7.6391,  0.3647],\n",
       "        [-1.4046,  3.6391,  1.3647]], dtype=torch.float64)"
      ]
     },
     "execution_count": 32,
     "metadata": {},
     "output_type": "execute_result"
    }
   ],
   "source": [
    "# when objects have a common dimension, then broadcasting is very predictable.\n",
    "a[0]+v"
   ]
  },
  {
   "cell_type": "markdown",
   "metadata": {
    "id": "ceuABrELjO0C"
   },
   "source": [
    "## Slicing in NumPy"
   ]
  },
  {
   "cell_type": "code",
   "execution_count": null,
   "metadata": {
    "colab": {
     "base_uri": "https://localhost:8080/"
    },
    "id": "qPuTh_hdGaiN",
    "outputId": "1932e5ec-3f5d-4cf3-ff8c-b2affd77c2c5"
   },
   "outputs": [
    {
     "name": "stdout",
     "output_type": "stream",
     "text": [
      "Slicing from 2 to 5: [2 3 4]\n",
      "Slicing every second element: [0 2 4 6 8]\n",
      "Slicing the array in reverse: [9 8 7 6 5 4 3 2 1 0]\n",
      "Slicing the second row: [4 5 6]\n",
      "Slicing the second column: [2 5 8]\n"
     ]
    }
   ],
   "source": [
    "# Create a sample NumPy array\n",
    "arr = np.arange(10)\n",
    "\n",
    "# Slice specific elements (start, stop, step)\n",
    "sliced_1 = arr[2:5]  # Elements from index 2 (inclusive) to 5 (exclusive)\n",
    "sliced_2 = arr[::2]  # Every second element (step size 2)\n",
    "sliced_3 = arr[::-1]  # Reverse the entire array\n",
    "\n",
    "# Print the sliced arrays\n",
    "print(\"Slicing from 2 to 5:\", sliced_1)\n",
    "print(\"Slicing every second element:\", sliced_2)\n",
    "print(\"Slicing the array in reverse:\", sliced_3)\n",
    "\n",
    "# Slice specific rows and columns (for 2D arrays)\n",
    "arr_2d = np.array([[1, 2, 3], [4, 5, 6], [7, 8, 9]])\n",
    "sliced_row = arr_2d[1, :]  # Get all elements from the second row\n",
    "sliced_col = arr_2d[:, 1]  # Get all elements from the second column\n",
    "\n",
    "# Print the sliced sub-arrays\n",
    "print(\"Slicing the second row:\", sliced_row)\n",
    "print(\"Slicing the second column:\", sliced_col)"
   ]
  },
  {
   "cell_type": "markdown",
   "metadata": {
    "id": "EWNoVBJNoueN"
   },
   "source": [
    "## Slicing in PyTorch"
   ]
  },
  {
   "cell_type": "code",
   "execution_count": null,
   "metadata": {
    "colab": {
     "base_uri": "https://localhost:8080/"
    },
    "id": "qQnfl03qjU7f",
    "outputId": "3b4828bf-0099-4da1-dd0c-bb4c6d80162f"
   },
   "outputs": [
    {
     "name": "stdout",
     "output_type": "stream",
     "text": [
      "Slicing from 2 to 5: tensor([2, 3, 4])\n",
      "Slicing every second element: tensor([0, 2, 4, 6, 8])\n",
      "Slicing the array in reverse: tensor([9, 8, 7, 6, 5, 4, 3, 2, 1, 0])\n",
      "Slicing the second row: tensor([4, 5, 6])\n",
      "Slicing the second column: tensor([2, 5, 8])\n"
     ]
    }
   ],
   "source": [
    "# Create a sample PyTOrch array\n",
    "arr = torch.arange(10)\n",
    "\n",
    "# Slice specific elements (start, stop, step)\n",
    "sliced_1 = arr[2:5]  # Elements from index 2 (inclusive) to 5 (exclusive)\n",
    "sliced_2 = arr[::2]  # Every second element (step size 2)\n",
    "# sliced_3 = arr[::-1] will not work! You can use the flip method instead.\n",
    "sliced_3 = torch.flip(arr, dims=(0,)) # Specify the dimension to flip\n",
    "\n",
    "# Print the sliced arrays\n",
    "print(\"Slicing from 2 to 5:\", sliced_1)\n",
    "print(\"Slicing every second element:\", sliced_2)\n",
    "print(\"Slicing the array in reverse:\", sliced_3)\n",
    "\n",
    "# Slice specific rows and columns (for 2D arrays)\n",
    "arr_2d = torch.tensor([[1, 2, 3], [4, 5, 6], [7, 8, 9]])\n",
    "sliced_row = arr_2d[1, :]  # Get all elements from the second row\n",
    "sliced_col = arr_2d[:, 1]  # Get all elements from the second column\n",
    "\n",
    "# Print the sliced sub-arrays\n",
    "print(\"Slicing the second row:\", sliced_row)\n",
    "print(\"Slicing the second column:\", sliced_col)"
   ]
  },
  {
   "cell_type": "markdown",
   "metadata": {
    "id": "lgbj2G2E7Lxy"
   },
   "source": [
    "## Matrix Operations"
   ]
  },
  {
   "cell_type": "code",
   "execution_count": 14,
   "metadata": {
    "id": "NeaFNhh2q2R5"
   },
   "outputs": [],
   "source": [
    "# Suppose we want to multiply two matrices\n",
    "A  = torch.tensor([[1, 2, 3], [4, 5, 6]]).to(dtype)\n",
    "B  = torch.tensor([[1, 2], [3, 4], [5, 6]]).to(dtype)"
   ]
  },
  {
   "cell_type": "code",
   "execution_count": 15,
   "metadata": {
    "colab": {
     "base_uri": "https://localhost:8080/"
    },
    "id": "Hscj01Bb7646",
    "outputId": "4790a600-2467-4c76-e3ff-337d97af65a2"
   },
   "outputs": [
    {
     "data": {
      "text/plain": [
       "tensor([[22., 28.],\n",
       "        [49., 64.]])"
      ]
     },
     "execution_count": 15,
     "metadata": {},
     "output_type": "execute_result"
    }
   ],
   "source": [
    "A @ B"
   ]
  },
  {
   "cell_type": "code",
   "execution_count": 55,
   "metadata": {
    "colab": {
     "base_uri": "https://localhost:8080/"
    },
    "id": "4lPhR122LL1Y",
    "outputId": "65362324-ff43-4ec9-e247-fb9fac42524d"
   },
   "outputs": [
    {
     "data": {
      "text/plain": [
       "tensor([[22., 49.],\n",
       "        [28., 64.]])"
      ]
     },
     "execution_count": 55,
     "metadata": {},
     "output_type": "execute_result"
    }
   ],
   "source": [
    "# compute the transpose of a matrix\n",
    "(A@B).T"
   ]
  },
  {
   "cell_type": "code",
   "execution_count": 16,
   "metadata": {
    "colab": {
     "base_uri": "https://localhost:8080/"
    },
    "id": "PNEdEqWt7-V6",
    "outputId": "744bec84-f98d-4ca1-db3e-a54abb3c227c"
   },
   "outputs": [
    {
     "data": {
      "text/plain": [
       "tensor(36.0000)"
      ]
     },
     "execution_count": 16,
     "metadata": {},
     "output_type": "execute_result"
    }
   ],
   "source": [
    "# if we want to compute the determinant\n",
    "M = A@B\n",
    "torch.linalg.det(M)"
   ]
  },
  {
   "cell_type": "code",
   "execution_count": 17,
   "metadata": {
    "colab": {
     "base_uri": "https://localhost:8080/"
    },
    "id": "HUFVYFZ_8EhB",
    "outputId": "6de1a7af-eea2-4fde-e86d-81857465aea8"
   },
   "outputs": [
    {
     "data": {
      "text/plain": [
       "tensor([[ 1.7778, -0.7778],\n",
       "        [-1.3611,  0.6111]])"
      ]
     },
     "execution_count": 17,
     "metadata": {},
     "output_type": "execute_result"
    }
   ],
   "source": [
    "# compute the inverse of a matrix\n",
    "M = A@B\n",
    "torch.linalg.inv(M)"
   ]
  },
  {
   "cell_type": "markdown",
   "metadata": {
    "id": "kx8PHgCD93B1"
   },
   "source": [
    "## A Curve Fitting Example"
   ]
  },
  {
   "cell_type": "code",
   "execution_count": 29,
   "metadata": {
    "id": "MXCH50kL-igt"
   },
   "outputs": [],
   "source": [
    "import matplotlib.pyplot as plt"
   ]
  },
  {
   "cell_type": "code",
   "execution_count": 30,
   "metadata": {
    "id": "WZZKbKh09RD1"
   },
   "outputs": [],
   "source": [
    "# Create random input and output data\n",
    "x = torch.linspace(-torch.pi, torch.pi, 400, device=device, dtype=dtype)\n",
    "y = torch.sin(x) + 0.5*torch.randn(x.size()) # we add noise"
   ]
  },
  {
   "cell_type": "code",
   "execution_count": 31,
   "metadata": {},
   "outputs": [
    {
     "data": {
      "text/plain": [
       "torch.Size([400])"
      ]
     },
     "execution_count": 31,
     "metadata": {},
     "output_type": "execute_result"
    }
   ],
   "source": [
    "x.size()"
   ]
  },
  {
   "cell_type": "code",
   "execution_count": 40,
   "metadata": {
    "colab": {
     "base_uri": "https://localhost:8080/",
     "height": 451
    },
    "id": "ioVuNFC9-tAo",
    "outputId": "87d619d6-2c32-436f-db19-90f32441fbca"
   },
   "outputs": [
    {
     "data": {
      "image/png": "[encoded data removed]",
      "text/plain": [
       "<Figure size 640x480 with 1 Axes>"
      ]
     },
     "metadata": {},
     "output_type": "display_data"
    }
   ],
   "source": [
    "plt.scatter(x,y)\n",
    "plt.show()"
   ]
  },
  {
   "cell_type": "code",
   "execution_count": 44,
   "metadata": {
    "colab": {
     "base_uri": "https://localhost:8080/"
    },
    "id": "C6f0XzFb-vFz",
    "outputId": "3dc32a11-9538-4a1a-fc76-727bf97ebfa1"
   },
   "outputs": [
    {
     "name": "stdout",
     "output_type": "stream",
     "text": [
      "99 173.33489990234375\n",
      "199 150.40272521972656\n",
      "299 146.163330078125\n",
      "399 142.86395263671875\n",
      "499 139.81167602539062\n",
      "599 136.96580505371094\n",
      "699 134.31150817871094\n",
      "799 131.8358612060547\n",
      "899 129.52682495117188\n",
      "999 127.37315368652344\n",
      "1099 125.3643798828125\n",
      "1199 123.49075317382812\n",
      "1299 121.7431640625\n",
      "1399 120.11312866210938\n",
      "1499 118.59269714355469\n",
      "1599 117.17454528808594\n",
      "1699 115.85173034667969\n",
      "1799 114.61786651611328\n",
      "1899 113.46697998046875\n",
      "1999 112.39344024658203\n",
      "Result: y = -0.3214629590511322 + 0.8638995289802551 x + 0.05473257228732109 x^2 + -0.09706521779298782 x^3\n"
     ]
    }
   ],
   "source": [
    "# Randomly initialize weights\n",
    "a = torch.randn((), device=device, dtype=dtype)\n",
    "b = torch.randn((), device=device, dtype=dtype)\n",
    "c = torch.randn((), device=device, dtype=dtype)\n",
    "d = torch.randn((), device=device, dtype=dtype)\n",
    "\n",
    "learning_rate = 1e-6\n",
    "for t in range(2000):\n",
    "    # Forward pass: compute predicted y\n",
    "    y_pred = a + b * x + c * x ** 2 + d * x ** 3\n",
    "\n",
    "    # Compute and print loss\n",
    "    loss = (y_pred - y).pow(2).sum().item()\n",
    "    if t % 100 == 99:\n",
    "        print(t, loss)\n",
    "\n",
    "    # Backprop to compute gradients of a, b, c, d with respect to loss\n",
    "    grad_y_pred = 2.0 * (y_pred - y)\n",
    "    grad_a = grad_y_pred.sum()\n",
    "    grad_b = (grad_y_pred * x).sum()\n",
    "    grad_c = (grad_y_pred * x ** 2).sum()\n",
    "    grad_d = (grad_y_pred * x ** 3).sum()\n",
    "\n",
    "    # Update weights using gradient descent\n",
    "    a -= learning_rate * grad_a\n",
    "    b -= learning_rate * grad_b\n",
    "    c -= learning_rate * grad_c\n",
    "    d -= learning_rate * grad_d\n",
    "\n",
    "\n",
    "print(f'Result: y = {a.item()} + {b.item()} x + {c.item()} x^2 + {d.item()} x^3')"
   ]
  },
  {
   "cell_type": "code",
   "execution_count": 45,
   "metadata": {
    "id": "uIGoAf6HAILk"
   },
   "outputs": [],
   "source": [
    "def f(x):\n",
    "    return a + b * x + c * x ** 2 + d * x ** 3"
   ]
  },
  {
   "cell_type": "code",
   "execution_count": 46,
   "metadata": {
    "colab": {
     "base_uri": "https://localhost:8080/",
     "height": 468
    },
    "id": "db31QRDSAJOA",
    "outputId": "dc799069-8755-4f42-87b6-06c2e7db1f6c"
   },
   "outputs": [
    {
     "data": {
      "text/plain": [
       "[<matplotlib.lines.Line2D at 0x7edf6f14caf0>]"
      ]
     },
     "execution_count": 46,
     "metadata": {},
     "output_type": "execute_result"
    },
    {
     "data": {
      "image/png": "[encoded data removed]",
      "text/plain": [
       "<Figure size 640x480 with 1 Axes>"
      ]
     },
     "metadata": {},
     "output_type": "display_data"
    }
   ],
   "source": [
    "# we can predict y in the range of x\n",
    "plt.scatter(x.cpu(), y.cpu(), label='True data')\n",
    "plt.plot(x.cpu(), f(x).cpu(), 'r-', lw=3, label='Prediction')"
   ]
  },
  {
   "cell_type": "markdown",
   "metadata": {
    "id": "fAeOSgY7CpoU"
   },
   "source": [
    "## Writing Classes"
   ]
  },
  {
   "cell_type": "code",
   "execution_count": 47,
   "metadata": {
    "id": "Z8GXSal2AfYk"
   },
   "outputs": [],
   "source": [
    "class MinMaxScaler:\n",
    "    def __init__(self):\n",
    "        self.min = None\n",
    "        self.max = None\n",
    "\n",
    "    def fit(self, data):\n",
    "        \"\"\"\n",
    "        Compute the minimum and maximum value of the data for scaling.\n",
    "\n",
    "        Args:\n",
    "        - data (torch.Tensor): Input data tensor.\n",
    "        \"\"\"\n",
    "        self.min = torch.min(data, dim=0, keepdim=True).values\n",
    "        self.max = torch.max(data, dim=0, keepdim=True).values\n",
    "\n",
    "    def transform(self, data):\n",
    "        \"\"\"\n",
    "        Scale the data based on the computed minimum and maximum values.\n",
    "\n",
    "        Args:\n",
    "        - data (torch.Tensor): Input data tensor.\n",
    "\n",
    "        Returns:\n",
    "        - torch.Tensor: Scaled data tensor.\n",
    "        \"\"\"\n",
    "        if self.min is None or self.max is None:\n",
    "            raise ValueError(\"Scaler has not been fitted yet. Please call 'fit' with appropriate data.\")\n",
    "\n",
    "        scaled_data = (data - self.min) / (self.max - self.min)\n",
    "        return scaled_data\n",
    "\n",
    "    def fit_transform(self, data):\n",
    "        \"\"\"\n",
    "        Fit to data, then transform it.\n",
    "\n",
    "        Args:\n",
    "        - data (torch.Tensor): Input data tensor.\n",
    "\n",
    "        Returns:\n",
    "        - torch.Tensor: Scaled data tensor.\n",
    "        \"\"\"\n",
    "        self.fit(data)\n",
    "        return self.transform(data)"
   ]
  },
  {
   "cell_type": "code",
   "execution_count": 48,
   "metadata": {
    "colab": {
     "base_uri": "https://localhost:8080/"
    },
    "id": "fXptG1OpCwu6",
    "outputId": "5d2f7d54-5afc-4226-97ed-428c85c8cb68"
   },
   "outputs": [
    {
     "name": "stdout",
     "output_type": "stream",
     "text": [
      "tensor([[0.0000, 0.0000],\n",
      "        [0.5000, 0.5000],\n",
      "        [1.0000, 1.0000]])\n"
     ]
    }
   ],
   "source": [
    "# Example usage:\n",
    "data = torch.tensor([[1.0, 2.0], [3.0, 4.0], [5.0, 6.0]])\n",
    "scaler = MinMaxScaler()\n",
    "scaled_data = scaler.fit_transform(data)\n",
    "print(scaled_data)"
   ]
  },
  {
   "cell_type": "markdown",
   "metadata": {
    "id": "tKfK5zhaDH_K"
   },
   "source": [
    "## Exercise\n",
    "\n",
    "Write a class, using PyTorch, for computing a standard scaling (by z-scores.)"
   ]
  },
  {
   "cell_type": "code",
   "execution_count": null,
   "metadata": {
    "id": "zVVe4d5zCzqc"
   },
   "outputs": [],
   "source": []
  },
  {
   "cell_type": "markdown",
   "metadata": {
    "id": "hzqWIkngIvEh"
   },
   "source": [
    "## A Logistic Regression Class - Numpy"
   ]
  },
  {
   "cell_type": "code",
   "execution_count": 49,
   "metadata": {
    "id": "iud26j1zJGlD"
   },
   "outputs": [],
   "source": [
    "def expit(x):\n",
    "  return 1 / (1 + np.exp(-x))"
   ]
  },
  {
   "cell_type": "code",
   "execution_count": 50,
   "metadata": {
    "id": "eoiebD0oI0mJ"
   },
   "outputs": [],
   "source": [
    "# Define logistic regression model:\n",
    "class LogisticRegression(object):\n",
    "    def __init__(self,x,y, lr=0.01):\n",
    "        self.lr=lr\n",
    "        n=x.shape[1] # determine the number of independent variables\n",
    "        self.w=np.ones((1,n))*(0) # initialize weight matrix and set weights to zero\n",
    "        self.b=0.5 # set starting value for b to 0.5\n",
    "\n",
    "    def predict(self,x): # returns prediction\n",
    "        z=x@self.w.T  + self.b   # @: matrix multiplication\n",
    "        p=expit(z)  # logistic sigmoid function\n",
    "        return p\n",
    "\n",
    "    def cost(self, x,y): #cost function\n",
    "        z=x@self.w.T  + self.b\n",
    "        p=expit(z)\n",
    "        return - np.mean(y*np.log(p) + (1-y)*np.log(1-p)) #Cross-entropy cost function\n",
    "\n",
    "    def step(self,x,y):\n",
    "        z=x@self.w.T  + self.b\n",
    "        p=expit(z)\n",
    "\n",
    "        # Partial derivatives:\n",
    "        dw= np.mean((p - y)*x, axis=0)    # dJ/dw\n",
    "        db = np.mean(p-y)               # dJ/db\n",
    "        self.w = self.w - dw*self.lr # update w\n",
    "        self.b= self.b- db*self.lr  # update b\n",
    "\n",
    "    def fit(self,x,y,numberOfEpochs=100000):\n",
    "        # Create arrays to store weights, biases, costs, predicted y-values for plots..\n",
    "            #... and predicted y-values for connection lines in:\n",
    "        self.AllWeights=np.zeros((numberOfEpochs, x.shape[1]))\n",
    "        self.AllBiases=np.zeros((numberOfEpochs, x.shape[1]))\n",
    "        self.AllCosts=np.zeros((numberOfEpochs, x.shape[1]))\n",
    "        self.All_cl= np.zeros((numberOfEpochs,len(x))) # cl: # predicted y-values for connection lines\n",
    "\n",
    "        for step in range(numberOfEpochs):\n",
    "            # for each step of gradient descent assign new parameter value to respective array element:\n",
    "            self.AllWeights[step]=self.w\n",
    "            self.AllBiases[step]=self.b\n",
    "            self.AllCosts[step]=self.cost(x,y)\n",
    "            self.All_cl[step]=(self.predict(x)).T.flatten()\n",
    "            self.step(x,y) # update parameter values"
   ]
  },
  {
   "cell_type": "code",
   "execution_count": 53,
   "metadata": {
    "id": "4K95EJvFJgDQ"
   },
   "outputs": [],
   "source": [
    "# Define some training data:\n",
    "x_train = np.array([\n",
    "    [-8.3],\n",
    "    [-7.1],\n",
    "    [-4.9],\n",
    "    [-3.9],\n",
    "    [-2.7],\n",
    "    [-1.5],\n",
    "    [-.9],\n",
    "    [1.2],\n",
    "    [2.5],\n",
    "    [3.6],\n",
    "    [5.2],\n",
    "    [6.5],\n",
    "    [7.8],\n",
    "    [9.0],\n",
    "    [9.9],\n",
    "    [11.2]\n",
    "])\n",
    "\n",
    "y_train = np.array([\n",
    "    [0],\n",
    "    [0],\n",
    "    [0],\n",
    "    [0],\n",
    "    [0],\n",
    "    [0],\n",
    "    [1],\n",
    "    [0],\n",
    "    [1],\n",
    "    [0],\n",
    "    [1],\n",
    "    [0],\n",
    "    [1],\n",
    "    [1],\n",
    "    [1],\n",
    "    [1]\n",
    "])"
   ]
  },
  {
   "cell_type": "code",
   "execution_count": 56,
   "metadata": {
    "colab": {
     "base_uri": "https://localhost:8080/"
    },
    "id": "5EmIHM9PJ4cj",
    "outputId": "d739b467-a745-42a3-fd20-dbe3fa123b0c"
   },
   "outputs": [
    {
     "name": "stdout",
     "output_type": "stream",
     "text": [
      "Final weight: 0.3577707045843588\n",
      "Final bias: -1.11812276174552\n",
      "Final costs: 0.40028278018174146\n",
      "CPU times: user 4.85 s, sys: 81.8 ms, total: 4.93 s\n",
      "Wall time: 5.3 s\n"
     ]
    }
   ],
   "source": [
    "%%time\n",
    "xs=np.array([np.linspace(-10,12)]) # x-values later used for regression curve plot\n",
    "\n",
    "# Fit model to training data:\n",
    "model=LogisticRegression(x_train,y_train, lr=0.01) # set up model and define learning rate\n",
    "model.fit(x_train,y_train, numberOfEpochs=50000) # set number of epochs\n",
    "\n",
    "# Store parameter values in new variables:\n",
    "w=model.AllWeights.T\n",
    "b= model.AllBiases\n",
    "c=model.AllCosts\n",
    "cl=model.All_cl\n",
    "\n",
    "# Print results:\n",
    "print(\"Final weight: \"+ str(float(model.w)))\n",
    "print(\"Final bias: \"+ str(model.b))\n",
    "print(\"Final costs: \" + str(model.cost(x_train,y_train)))"
   ]
  },
  {
   "cell_type": "markdown",
   "metadata": {
    "id": "ddv5kXnkLpnj"
   },
   "source": [
    "## Exercise - Rewrite the class above with PyTorch instead of NumPy and time its fitting runtime on the same data set."
   ]
  },
  {
   "cell_type": "code",
   "execution_count": null,
   "metadata": {
    "id": "fbZgPOTQPq4J"
   },
   "outputs": [],
   "source": [
    "# write your code"
   ]
  },
  {
   "cell_type": "markdown",
   "metadata": {
    "id": "bnCkkWTaPlej"
   },
   "source": [
    "## A Treat: How to make animations"
   ]
  },
  {
   "cell_type": "code",
   "execution_count": 57,
   "metadata": {
    "id": "8mqJkl4iJ7FM"
   },
   "outputs": [],
   "source": [
    "!pip install -q celluloid"
   ]
  },
  {
   "cell_type": "code",
   "execution_count": null,
   "metadata": {
    "id": "05fF0jtBP0G9"
   },
   "outputs": [],
   "source": [
    "# Import libraries:\n",
    "import matplotlib.pyplot as plt\n",
    "from matplotlib import cm\n",
    "from mpl_toolkits.mplot3d import Axes3D\n",
    "import celluloid\n",
    "from celluloid import Camera\n",
    "from matplotlib import gridspec"
   ]
  },
  {
   "cell_type": "code",
   "execution_count": null,
   "metadata": {
    "id": "CZUoBSLXP8mA"
   },
   "outputs": [],
   "source": [
    "# Regression curve\n",
    "def pred_curve(xs,w0,b0):  # predict y-values for regression curve\n",
    "    z=xs.T@w0.T  + b0\n",
    "    p=expit(z)\n",
    "    return p\n",
    "\n",
    "# Create data for surface plot:\n",
    "def CrossEntropy_cost(x,y,w0,b0):  # returns costs for every pair of w and b.\n",
    "        p=expit(x @ w0.T + b0)\n",
    "        return - np.mean(y*np.log(p) + (1-y)*np.log(1-p))\n",
    "\n",
    "ws = np.linspace(-0.05, 0.75, 40) # set range of values for w ...\n",
    "bs = np.linspace(-1.75, 0.75, 40)  # ... and b for surface plot\n",
    "M, B = np.meshgrid(ws, bs) # create meshgrid for surface plot\n",
    "zs = np.array([CrossEntropy_cost(x_train,y_train,       # determine costs for each pair of w and b\n",
    "                       np.array([[wp]]), np.array([[bp]]))  # CrossEntropy_cost() only accepts wp and bp as matrices.\n",
    "               for wp, bp in zip(np.ravel(M), np.ravel(B))])\n",
    "Z = zs.reshape(M.shape) # get z-values for surface plot in shape of M.\n",
    "\n",
    "# Define which epochs to plot:\n",
    "a1=np.arange(0,20,1).tolist()\n",
    "a2=np.arange(20,100,10).tolist()\n",
    "a3=np.arange(100,500,100).tolist()\n",
    "a4=np.arange(500,15000,100).tolist()\n",
    "#a5=np.arange(40000,60000,20000).tolist()\n",
    "points_ = a1+a2+a3+a4#+a5\n",
    "\n",
    "# Create first animation (regression curve & surface plot):\n",
    "fig = plt.figure(figsize=(10,12)) # create figure\n",
    "gs = gridspec.GridSpec(2, 1, height_ratios=[1, 1.7]) # set height ratios of subplots\n",
    "\n",
    "label_font_size = 16 # size of label fonts\n",
    "tick_label_size= 16 # size of tick labels\n",
    "\n",
    "# Customize subplots:\n",
    "ax0=fig.add_subplot(gs[0]) # add first subplot to figure\n",
    "ax0.set_title(\"Logistic Regression Curve\", fontsize=22) #set title\n",
    "ax0.tick_params(axis='both', which='major', labelsize=tick_label_size) # set tick label size\n",
    "ax0.set_xlabel(\"Value of the input feature\", fontsize=label_font_size, labelpad=5) # set axis labels\n",
    "ax0.set_ylabel(\"Probability that $y=1$\", fontsize=label_font_size, labelpad=5)\n",
    "ax0.tick_params(axis='both', which='major',\n",
    "                labelsize=tick_label_size)\n",
    "ax0.set_ylim([-0.05, 1.2]) # set range for y-values in the plot\n",
    "ax0.set_yticks([0,0.2,0.4,0.6,0.8, 1]) # set y-axis ticks\n",
    "ax0.set_yticklabels([\"0\",\"0.2\",\"0.4\",\"0.6\",\"0.8\", \"1.0\"], # label y-ticks\n",
    "                    fontsize=tick_label_size)\n",
    "ax1=fig.add_subplot(gs[1], projection=\"3d\") # add second subplot\n",
    "ax1.view_init(elev=25, azim=-70) # set view\n",
    "ax1.set_xlabel(\"$\\\\beta_1$\", fontsize=label_font_size, labelpad=16)\n",
    "ax1.set_ylabel(\"$\\\\beta_0$\", fontsize=label_font_size, labelpad=16)\n",
    "ax1.set_zlabel(\"Cross-Entropy\", fontsize=label_font_size, labelpad=13)\n",
    "ax1.tick_params(axis='both', which='major', labelsize=tick_label_size)\n",
    "ax1.set_xticks([0, 0.2,0.4,0.6])\n",
    "ax1.set_xticklabels([\"0\", \"0.2\",\"0.4\",\"0.6\"], fontsize=tick_label_size)\n",
    "ax1.set_yticks([-1.5,-1, -0.5,0,0.5])\n",
    "ax1.set_yticklabels([\"-1.5\",\"-1\", \"-0.5\",\"0\",\"0.5\"], fontsize=tick_label_size)\n",
    "ax1.set_zticks([0.4,0.6, 0.8,1.0])\n",
    "ax1.set_zticklabels([\"0.4\",\"0.6\", \"0.8\",\"1.0\"], fontsize=tick_label_size)\n",
    "ax1.tick_params(axis='z', pad=7, which='major', labelsize=tick_label_size)\n",
    "plt.tight_layout() # adjusts subplots to figure area\n",
    "\n",
    "camera = Camera(fig)  # create camera\n",
    "for i in points_:\n",
    "\n",
    "    # Plot logistic regression curve:\n",
    "    ys = pred_curve(xs,np.array([w.flatten()[i]]),b.flatten()[i]) #calculate y-values for reg. curve\n",
    "    leg=ax0.plot(xs.flatten(),ys.flatten(),\n",
    "                 color='r', label=str(i),lw=2,alpha=1)\n",
    "\n",
    "    # Scatter plot of training data:\n",
    "    ax0.scatter(x_train, y_train, color='b',marker='x', s=90) # plot training data points\n",
    "    ax0.legend(leg,[f'costs: {np.round(c.flatten()[i],3)}'], # customize legend\n",
    "               loc='upper left', fontsize=18)\n",
    "\n",
    "    # Plot connecting lines (between predicted y-values and training data points):\n",
    "    cl_=cl[i]\n",
    "    for j in range(len(y_train)):\n",
    "        x,y = [x_train[j],x_train[j]],[float(y_train[j]),cl_[j]]\n",
    "        ax0.scatter(x,y, color='black',s=0.5)\n",
    "        ax0.plot(x,y, color='black', linewidth=1.5,\n",
    "                 linestyle='dashed', alpha=0.4)\n",
    "\n",
    "    # Surface plot of costs:\n",
    "    ax1.plot_surface(M, B, Z, rstride=1, cstride=1,\n",
    "                     alpha=0.80,cmap=cm.coolwarm)\n",
    "\n",
    "    # Plot trajectory of gradient descent:\n",
    "    ax1.plot(w.flatten()[0:i],b.flatten()[0:i],\n",
    "             c.flatten()[0:i], linestyle=\"dashed\",\n",
    "             linewidth=2.5, color=\"black\")\n",
    "    ax1.scatter(w.flatten()[i],b.flatten()[i],\n",
    "                c.flatten()[i], marker=\"o\",s=70*2, color=\"black\")\n",
    "\n",
    "    # Customize legend:\n",
    "    ax1.legend(leg,[f'iterations: {i}'],\n",
    "               loc='upper left', fontsize=18)\n",
    "\n",
    "    camera.snap() # take snapshot after each frame/iteration\n",
    "\n",
    "# Create animation:\n",
    "animation = camera.animate(interval = 500, # set delay between frames in milliseconds.\n",
    "                          repeat = False, repeat_delay = 0)"
   ]
  },
  {
   "cell_type": "code",
   "execution_count": null,
   "metadata": {
    "id": "excAAMg4QNh6"
   },
   "outputs": [],
   "source": [
    "# save the gif file\n",
    "animation.save('LogisticRegression_Ex_1D.gif',writer='ffmpeg',fps=20,dpi=200)"
   ]
  },
  {
   "cell_type": "markdown",
   "metadata": {
    "id": "l4OMMsReQQpi"
   },
   "source": [
    "The final result should look like this:\n",
    "\n",
    "<figure>\n",
    "<center>\n",
    "<img src=\"https://i.imgur.com/98so2t5.gif\"\n",
    "width='600px' />\n",
    "<figcaption>Intuition for Logistic Regression</figcaption></center>\n",
    "</figure>"
   ]
  },
  {
   "cell_type": "code",
   "execution_count": null,
   "metadata": {
    "id": "IABBXmFWQ656"
   },
   "outputs": [],
   "source": []
  }
 ],
 "metadata": {
  "colab": {
   "provenance": []
  },
  "kernelspec": {
   "display_name": "Python 3 (ipykernel)",
   "language": "python",
   "name": "python3"
  },
  "language_info": {
   "codemirror_mode": {
    "name": "ipython",
    "version": 3
   },
   "file_extension": ".py",
   "mimetype": "text/x-python",
   "name": "python",
   "nbconvert_exporter": "python",
   "pygments_lexer": "ipython3",
   "version": "3.11.5"
  }
 },
 "nbformat": 4,
 "nbformat_minor": 1
}
