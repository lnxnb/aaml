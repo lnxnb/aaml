{
 "cells": [
  {
   "cell_type": "code",
   "execution_count": 1,
   "metadata": {
    "id": "1ubUVEm8bA4o"
   },
   "outputs": [],
   "source": [
    "# # this block of code imports graphical libraries for plotting graphs with high resolution\n",
    "%matplotlib inline\n",
    "%config InlineBackend.figure_format = 'retina'\n",
    "import matplotlib.pyplot as plt\n",
    "import matplotlib as mpl\n",
    "mpl.rcParams['figure.dpi'] = 120"
   ]
  },
  {
   "cell_type": "code",
   "execution_count": 2,
   "metadata": {
    "id": "Wb-immanch1H"
   },
   "outputs": [],
   "source": [
    "# Libraries of functions need to be imported\n",
    "import numpy as np\n",
    "import pandas as pd\n",
    "from sklearn import linear_model\n",
    "from sklearn.preprocessing import StandardScaler, MinMaxScaler\n",
    "from scipy.spatial import Delaunay\n",
    "from sklearn.ensemble import RandomForestRegressor\n",
    "from sklearn.model_selection import KFold, GridSearchCV\n",
    "from sklearn.metrics import mean_squared_error as mse\n",
    "from scipy import linalg\n",
    "from scipy.interpolate import interp1d, LinearNDInterpolator, NearestNDInterpolator\n",
    "from sklearn.decomposition import PCA\n",
    "\n",
    "# the following line(s) are necessary if you want to make SKlearn compliant functions\n",
    "from sklearn.base import BaseEstimator, RegressorMixin\n",
    "from sklearn.utils.validation import check_X_y, check_array, check_is_fitted"
   ]
  },
  {
   "cell_type": "code",
   "execution_count": null,
   "metadata": {
    "id": "jbDdhEvYcsm3"
   },
   "outputs": [],
   "source": []
  },
  {
   "cell_type": "code",
   "execution_count": 3,
   "metadata": {
    "id": "pVJN1dFl1FH1"
   },
   "outputs": [],
   "source": [
    "# Gaussian Kernel\n",
    "def Gaussian(x):\n",
    "  return np.where(np.abs(x)>4,0,1/(np.sqrt(2*np.pi))*np.exp(-1/2*x**2))"
   ]
  },
  {
   "cell_type": "code",
   "execution_count": 4,
   "metadata": {
    "id": "2rh_RP12cYwK"
   },
   "outputs": [],
   "source": [
    "# this is the correct vectorized version\n",
    "def Tricubic(x):\n",
    "  return np.where(np.abs(x)>1,0,(1-np.abs(x)**3)**3)"
   ]
  },
  {
   "cell_type": "code",
   "execution_count": 5,
   "metadata": {
    "id": "4TtZzxpteCO0"
   },
   "outputs": [],
   "source": [
    "# Epanechnikov Kernel\n",
    "def Epanechnikov(x):\n",
    "  return np.where(np.abs(x)>1,0,3/4*(1-np.abs(x)**2))"
   ]
  },
  {
   "cell_type": "code",
   "execution_count": 6,
   "metadata": {
    "id": "lZ1rmjMfywSx"
   },
   "outputs": [],
   "source": [
    "# Quartic Kernel\n",
    "def Quartic(x):\n",
    "  return np.where(np.abs(x)>1,0,15/16*(1-np.abs(x)**2)**2)"
   ]
  },
  {
   "cell_type": "markdown",
   "metadata": {
    "id": "RdKyfWvRbIDV"
   },
   "source": [
    "# Learning Objectives\n",
    "\n",
    "-  How to efficiently compute all the pairwise distances among different observations.\n",
    "- How to use the weights with the distances.\n",
    "- Test the locally weighted regressors.\n",
    "- We want to see how to boost their performance; this means boosting, such as gradient boosting."
   ]
  },
  {
   "cell_type": "code",
   "execution_count": 7,
   "metadata": {
    "id": "aZsASz_wbK_K"
   },
   "outputs": [],
   "source": [
    "# real data application includes cars.csv, concrete.csv and more\n",
    "data = pd.read_csv('cars.csv')"
   ]
  },
  {
   "cell_type": "code",
   "execution_count": 8,
   "metadata": {
    "colab": {
     "base_uri": "https://localhost:8080/",
     "height": 444
    },
    "id": "xzKkcJwjdD3Y",
    "outputId": "4aa7c28a-115e-48db-c748-30e10baa1d42"
   },
   "outputs": [
    {
     "data": {
      "text/html": [
       "<div>\n",
       "<style scoped>\n",
       "    .dataframe tbody tr th:only-of-type {\n",
       "        vertical-align: middle;\n",
       "    }\n",
       "\n",
       "    .dataframe tbody tr th {\n",
       "        vertical-align: top;\n",
       "    }\n",
       "\n",
       "    .dataframe thead th {\n",
       "        text-align: right;\n",
       "    }\n",
       "</style>\n",
       "<table border=\"1\" class=\"dataframe\">\n",
       "  <thead>\n",
       "    <tr style=\"text-align: right;\">\n",
       "      <th></th>\n",
       "      <th>MPG</th>\n",
       "      <th>CYL</th>\n",
       "      <th>ENG</th>\n",
       "      <th>WGT</th>\n",
       "    </tr>\n",
       "  </thead>\n",
       "  <tbody>\n",
       "    <tr>\n",
       "      <th>0</th>\n",
       "      <td>18.0</td>\n",
       "      <td>8</td>\n",
       "      <td>307.0</td>\n",
       "      <td>3504</td>\n",
       "    </tr>\n",
       "    <tr>\n",
       "      <th>1</th>\n",
       "      <td>15.0</td>\n",
       "      <td>8</td>\n",
       "      <td>350.0</td>\n",
       "      <td>3693</td>\n",
       "    </tr>\n",
       "    <tr>\n",
       "      <th>2</th>\n",
       "      <td>18.0</td>\n",
       "      <td>8</td>\n",
       "      <td>318.0</td>\n",
       "      <td>3436</td>\n",
       "    </tr>\n",
       "    <tr>\n",
       "      <th>3</th>\n",
       "      <td>16.0</td>\n",
       "      <td>8</td>\n",
       "      <td>304.0</td>\n",
       "      <td>3433</td>\n",
       "    </tr>\n",
       "    <tr>\n",
       "      <th>4</th>\n",
       "      <td>17.0</td>\n",
       "      <td>8</td>\n",
       "      <td>302.0</td>\n",
       "      <td>3449</td>\n",
       "    </tr>\n",
       "    <tr>\n",
       "      <th>...</th>\n",
       "      <td>...</td>\n",
       "      <td>...</td>\n",
       "      <td>...</td>\n",
       "      <td>...</td>\n",
       "    </tr>\n",
       "    <tr>\n",
       "      <th>387</th>\n",
       "      <td>27.0</td>\n",
       "      <td>4</td>\n",
       "      <td>140.0</td>\n",
       "      <td>2790</td>\n",
       "    </tr>\n",
       "    <tr>\n",
       "      <th>388</th>\n",
       "      <td>44.0</td>\n",
       "      <td>4</td>\n",
       "      <td>97.0</td>\n",
       "      <td>2130</td>\n",
       "    </tr>\n",
       "    <tr>\n",
       "      <th>389</th>\n",
       "      <td>32.0</td>\n",
       "      <td>4</td>\n",
       "      <td>135.0</td>\n",
       "      <td>2295</td>\n",
       "    </tr>\n",
       "    <tr>\n",
       "      <th>390</th>\n",
       "      <td>28.0</td>\n",
       "      <td>4</td>\n",
       "      <td>120.0</td>\n",
       "      <td>2625</td>\n",
       "    </tr>\n",
       "    <tr>\n",
       "      <th>391</th>\n",
       "      <td>31.0</td>\n",
       "      <td>4</td>\n",
       "      <td>119.0</td>\n",
       "      <td>2720</td>\n",
       "    </tr>\n",
       "  </tbody>\n",
       "</table>\n",
       "<p>392 rows × 4 columns</p>\n",
       "</div>"
      ],
      "text/plain": [
       "      MPG  CYL    ENG   WGT\n",
       "0    18.0    8  307.0  3504\n",
       "1    15.0    8  350.0  3693\n",
       "2    18.0    8  318.0  3436\n",
       "3    16.0    8  304.0  3433\n",
       "4    17.0    8  302.0  3449\n",
       "..    ...  ...    ...   ...\n",
       "387  27.0    4  140.0  2790\n",
       "388  44.0    4   97.0  2130\n",
       "389  32.0    4  135.0  2295\n",
       "390  28.0    4  120.0  2625\n",
       "391  31.0    4  119.0  2720\n",
       "\n",
       "[392 rows x 4 columns]"
      ]
     },
     "execution_count": 8,
     "metadata": {},
     "output_type": "execute_result"
    }
   ],
   "source": [
    "data"
   ]
  },
  {
   "cell_type": "code",
   "execution_count": 9,
   "metadata": {
    "id": "TC2QKDdTdFPU"
   },
   "outputs": [],
   "source": [
    "x = data.drop(columns=['MPG']).values\n",
    "y = data['MPG'].values"
   ]
  },
  {
   "cell_type": "markdown",
   "metadata": {
    "id": "87l5-5tVdtJ_"
   },
   "source": [
    "## Compute all pairwise distances efficiently\n",
    "\n",
    "This means we build a general case, assuming two matrices, we want to compute all the pairwise distances between the rows of matrix 1 and the rows of matrix 2."
   ]
  },
  {
   "cell_type": "code",
   "execution_count": 10,
   "metadata": {
    "id": "EEo0NZ2gdSdo"
   },
   "outputs": [],
   "source": [
    "# we want the Euclidean distance\n",
    "u = np.array(np.random.uniform(2,5,5))\n",
    "v = np.array(np.random.uniform(1,2,5))"
   ]
  },
  {
   "cell_type": "code",
   "execution_count": 11,
   "metadata": {
    "colab": {
     "base_uri": "https://localhost:8080/"
    },
    "id": "LzP7EQH1eVm1",
    "outputId": "679a917b-da4c-49a7-dc1f-457a9dac9664"
   },
   "outputs": [
    {
     "data": {
      "text/plain": [
       "array([3.11136394, 4.70201595, 3.24921825, 3.15282664, 2.40492934])"
      ]
     },
     "execution_count": 11,
     "metadata": {},
     "output_type": "execute_result"
    }
   ],
   "source": [
    "u"
   ]
  },
  {
   "cell_type": "code",
   "execution_count": 12,
   "metadata": {
    "colab": {
     "base_uri": "https://localhost:8080/"
    },
    "id": "ooR4Dy5deWMw",
    "outputId": "fa093502-fb12-4c11-dc0e-9683411b1723"
   },
   "outputs": [
    {
     "data": {
      "text/plain": [
       "array([1.02179092, 1.53245609, 1.06868792, 1.55851531, 1.41797694])"
      ]
     },
     "execution_count": 12,
     "metadata": {},
     "output_type": "execute_result"
    }
   ],
   "source": [
    "v"
   ]
  },
  {
   "cell_type": "markdown",
   "metadata": {
    "id": "bhjGvoh7ekZo"
   },
   "source": [
    "\n",
    "$$\\large \\text{dist}\\left(\\vec{u},\\vec{v}\\right):= \\sqrt{\\sum(u_i-v_i)^2}$$"
   ]
  },
  {
   "cell_type": "code",
   "execution_count": 13,
   "metadata": {
    "colab": {
     "base_uri": "https://localhost:8080/"
    },
    "id": "DTZKB6ulefIe",
    "outputId": "3e3d5237-dc83-4c89-80a1-e8bec1c23f5c"
   },
   "outputs": [
    {
     "data": {
      "text/plain": [
       "4.76267165301773"
      ]
     },
     "execution_count": 13,
     "metadata": {},
     "output_type": "execute_result"
    }
   ],
   "source": [
    "np.sqrt(np.sum((u-v)**2))"
   ]
  },
  {
   "cell_type": "code",
   "execution_count": 14,
   "metadata": {
    "id": "0LTE39_qfJ0A"
   },
   "outputs": [],
   "source": [
    "# what happens if u is matrix that has n rows and 5 columns?\n",
    "u = np.random.uniform(2,5,(10,5))"
   ]
  },
  {
   "cell_type": "code",
   "execution_count": 15,
   "metadata": {
    "colab": {
     "base_uri": "https://localhost:8080/"
    },
    "id": "trfyZbLEfYZp",
    "outputId": "18c91090-a012-4bb4-b057-d2757ef80b2d"
   },
   "outputs": [
    {
     "data": {
      "text/plain": [
       "(10, 5)"
      ]
     },
     "execution_count": 15,
     "metadata": {},
     "output_type": "execute_result"
    }
   ],
   "source": [
    "# check the shape\n",
    "u.shape"
   ]
  },
  {
   "cell_type": "code",
   "execution_count": 16,
   "metadata": {
    "colab": {
     "base_uri": "https://localhost:8080/"
    },
    "id": "zesq9ZwOfZjL",
    "outputId": "c321c6e4-a2f5-4d91-f908-2dc73691f60c"
   },
   "outputs": [
    {
     "data": {
      "text/plain": [
       "(5,)"
      ]
     },
     "execution_count": 16,
     "metadata": {},
     "output_type": "execute_result"
    }
   ],
   "source": [
    "v.shape # this may create a problem"
   ]
  },
  {
   "cell_type": "code",
   "execution_count": 17,
   "metadata": {
    "id": "lvXdhn3OfgOa"
   },
   "outputs": [],
   "source": [
    "# let's show a simple code\n",
    "def dist(u,v):\n",
    "  return np.sqrt(np.sum((u-v)**2,axis=1))"
   ]
  },
  {
   "cell_type": "code",
   "execution_count": 18,
   "metadata": {
    "colab": {
     "base_uri": "https://localhost:8080/"
    },
    "id": "JaFv_So3gPSr",
    "outputId": "ab60b2ae-c5e1-4dd2-e60e-28b401b9546c"
   },
   "outputs": [
    {
     "data": {
      "text/plain": [
       "array([4.95249469, 5.42679599, 6.33198239, 5.83353537, 5.68509162,\n",
       "       4.35254831, 4.63534474, 5.90778217, 4.37502843, 6.25589462])"
      ]
     },
     "execution_count": 18,
     "metadata": {},
     "output_type": "execute_result"
    }
   ],
   "source": [
    "dist(u,v)"
   ]
  },
  {
   "cell_type": "code",
   "execution_count": 19,
   "metadata": {
    "id": "9iggjGCsgqQ7"
   },
   "outputs": [],
   "source": [
    "# how about the case when v is a matrix with 5 columns?\n",
    "def dist(u,v):\n",
    "  D = []\n",
    "  if len(v.shape)==1:\n",
    "    v = v.reshape(1,-1)\n",
    "  # we would like all the pairwise combinations if u and v are matrices\n",
    "  # we could avoid two for loops if we consider broadcasting\n",
    "  for rowj in v:\n",
    "    D.append(np.sqrt(np.sum((u-rowj)**2,axis=1)))\n",
    "  return np.array(D).T"
   ]
  },
  {
   "cell_type": "code",
   "execution_count": 20,
   "metadata": {
    "colab": {
     "base_uri": "https://localhost:8080/"
    },
    "id": "Odj1WPNph2yu",
    "outputId": "1ef9a7b4-0385-493f-c88d-38410c932afb"
   },
   "outputs": [
    {
     "data": {
      "text/plain": [
       "array([[4.95249469],\n",
       "       [5.42679599],\n",
       "       [6.33198239],\n",
       "       [5.83353537],\n",
       "       [5.68509162],\n",
       "       [4.35254831],\n",
       "       [4.63534474],\n",
       "       [5.90778217],\n",
       "       [4.37502843],\n",
       "       [6.25589462]])"
      ]
     },
     "execution_count": 20,
     "metadata": {},
     "output_type": "execute_result"
    }
   ],
   "source": [
    "dist(u,v)"
   ]
  },
  {
   "cell_type": "code",
   "execution_count": 21,
   "metadata": {
    "id": "6ztaK0uYh6T7"
   },
   "outputs": [],
   "source": [
    "v = np.random.uniform(1,2,(20,5))"
   ]
  },
  {
   "cell_type": "code",
   "execution_count": 22,
   "metadata": {
    "id": "Zvz04qaKiWE5"
   },
   "outputs": [],
   "source": [
    "D = dist(u,v)"
   ]
  },
  {
   "cell_type": "code",
   "execution_count": 23,
   "metadata": {
    "colab": {
     "base_uri": "https://localhost:8080/"
    },
    "id": "_h5lXCkJjDB5",
    "outputId": "a39595d6-fe8e-4dc7-efa5-3c96fc2424cc"
   },
   "outputs": [
    {
     "data": {
      "text/plain": [
       "(10, 20)"
      ]
     },
     "execution_count": 23,
     "metadata": {},
     "output_type": "execute_result"
    }
   ],
   "source": [
    "D.shape"
   ]
  },
  {
   "cell_type": "code",
   "execution_count": 24,
   "metadata": {
    "colab": {
     "base_uri": "https://localhost:8080/"
    },
    "id": "qqiFEZRSjED2",
    "outputId": "e1e14767-8c38-48c2-a66f-5ba3e0b9f0c2"
   },
   "outputs": [
    {
     "data": {
      "text/plain": [
       "array([[4.77470757, 4.53626408, 5.24006051, 4.88394044, 4.26052637,\n",
       "        3.97365361, 4.51255447, 4.07303599, 4.83508322, 4.11794576,\n",
       "        4.47078512, 4.81568098, 4.11530477, 4.71438514, 4.35968485,\n",
       "        4.87039695, 4.63081126, 4.34796676, 5.0113093 , 4.21968471],\n",
       "       [5.67625221, 5.19130762, 5.82865542, 5.55040927, 5.07085953,\n",
       "        4.74947946, 5.13710376, 4.73038387, 5.2454422 , 4.67648311,\n",
       "        5.259598  , 5.18145779, 4.85327582, 5.4471428 , 4.79164477,\n",
       "        5.38282737, 5.22345454, 5.24128275, 5.35447564, 4.85768938],\n",
       "       [6.32475834, 5.6905659 , 6.36536444, 6.22640107, 5.39591445,\n",
       "        5.43792727, 5.82116097, 5.44778081, 5.88062481, 5.67078367,\n",
       "        6.00622236, 5.80279366, 5.56062543, 5.88029955, 5.53040285,\n",
       "        6.21833519, 5.6384961 , 6.03924268, 6.187645  , 5.59231473],\n",
       "       [5.9337352 , 5.40270106, 6.1633008 , 5.79943285, 5.13708739,\n",
       "        5.11016567, 5.426692  , 5.01981358, 5.5950188 , 5.25560188,\n",
       "        5.57505639, 5.65253776, 5.23268792, 5.60284651, 5.10757238,\n",
       "        5.86874311, 5.36578829, 5.50544229, 5.86049747, 5.17694024],\n",
       "       [5.71844372, 5.37764788, 6.10069466, 5.62459783, 5.0236128 ,\n",
       "        4.98921789, 5.3686888 , 4.85683443, 5.49464623, 5.10685972,\n",
       "        5.38530526, 5.57877611, 5.10562535, 5.5475618 , 5.06312127,\n",
       "        5.67830988, 5.28603   , 5.31756682, 5.727663  , 5.07468713],\n",
       "       [4.63095636, 3.89223645, 4.48734225, 4.50169805, 3.92428996,\n",
       "        3.53547197, 3.90923962, 3.66760205, 4.02725623, 3.4960896 ,\n",
       "        4.19720249, 3.81735284, 3.64043922, 4.19115209, 3.58491763,\n",
       "        4.25475291, 4.03138124, 4.24321156, 4.15129783, 3.68868944],\n",
       "       [4.73644277, 3.83789011, 4.33938028, 4.63112696, 3.82566129,\n",
       "        3.70198902, 4.03124078, 3.91325756, 4.05587504, 3.89031992,\n",
       "        4.4025184 , 3.75120476, 3.80049209, 4.08130043, 3.79206448,\n",
       "        4.44051421, 3.94509816, 4.53677932, 4.30325973, 3.89846088],\n",
       "       [5.77731013, 5.21343019, 5.93007895, 5.77113779, 4.92264643,\n",
       "        4.91109385, 5.333221  , 4.99048949, 5.53541767, 5.19539765,\n",
       "        5.48505011, 5.47378027, 5.0497525 , 5.39117791, 5.12315697,\n",
       "        5.81479164, 5.24051403, 5.45390398, 5.84338903, 5.11053628],\n",
       "       [4.48233418, 4.09993472, 4.60426982, 4.32226441, 3.71318177,\n",
       "        3.72304584, 4.15174222, 3.57493635, 3.93631521, 3.77792804,\n",
       "        4.15088323, 3.8713796 , 3.79865409, 4.26152474, 3.78631462,\n",
       "        4.15089159, 3.87622169, 4.29473072, 4.13186797, 3.83650749],\n",
       "       [6.40104745, 5.66933995, 6.32815718, 6.24403259, 5.48043811,\n",
       "        5.42667177, 5.77459136, 5.44083803, 5.80975133, 5.56883839,\n",
       "        6.02939044, 5.69393816, 5.54169156, 5.90397181, 5.43226862,\n",
       "        6.16071602, 5.6496087 , 6.07970484, 6.07355661, 5.55310681]])"
      ]
     },
     "execution_count": 24,
     "metadata": {},
     "output_type": "execute_result"
    }
   ],
   "source": [
    "D"
   ]
  },
  {
   "cell_type": "code",
   "execution_count": 25,
   "metadata": {
    "id": "Yn17gvTAjpwb"
   },
   "outputs": [],
   "source": [
    "def weight_function(u,v,kern=Gaussian,tau=0.5):\n",
    "    return kern(dist(u,v)/(2*tau))"
   ]
  },
  {
   "cell_type": "code",
   "execution_count": 26,
   "metadata": {
    "id": "nRpga6zKjTO8"
   },
   "outputs": [],
   "source": [
    "W = weight_function(u,v,kern=Tricubic,tau=1.7)"
   ]
  },
  {
   "cell_type": "code",
   "execution_count": 45,
   "metadata": {
    "id": "GUVQ5n6pkAya"
   },
   "outputs": [
    {
     "data": {
      "text/plain": [
       "array([[0.0231251 , 0.        , 0.90443941, 0.20424563, 0.23922863],\n",
       "       [1.        , 0.20471704, 0.23815418, 0.71029072, 0.53847816],\n",
       "       [0.76962649, 0.19801191, 0.        , 0.        , 0.13220805],\n",
       "       [0.        , 0.24773873, 0.43096073, 0.27037417, 0.6367169 ],\n",
       "       [0.74297628, 0.25451591, 0.88062674, 0.39831947, 0.98422088],\n",
       "       [0.9199994 , 0.56252417, 1.        , 0.84899893, 0.25355395],\n",
       "       [0.75114213, 0.28413199, 0.22144002, 0.88374804, 0.4184896 ],\n",
       "       [0.48454956, 0.67715913, 0.88248764, 0.75773795, 0.73977688],\n",
       "       [0.56343714, 0.76954956, 0.2154109 , 0.18538725, 0.69504191],\n",
       "       [0.70547093, 0.94354214, 0.83361738, 0.93906224, 0.        ],\n",
       "       [0.22021894, 0.30232488, 0.82087204, 0.54318211, 0.32374482],\n",
       "       [0.99083344, 1.        , 0.32869955, 0.0589158 , 0.34078745],\n",
       "       [0.8335315 , 0.56983928, 0.91338187, 0.74410009, 0.22643237],\n",
       "       [0.7978185 , 0.00697499, 0.28087462, 0.45756074, 0.58271224],\n",
       "       [0.78998617, 0.67525158, 0.16927211, 1.        , 0.73772585],\n",
       "       [0.18762596, 0.803366  , 0.56877639, 0.09365259, 0.21369999],\n",
       "       [0.67564477, 0.39087969, 0.37501929, 0.30710025, 1.        ],\n",
       "       [0.13449349, 0.05274989, 0.81494609, 0.92089255, 0.29773731],\n",
       "       [0.37053846, 0.94493448, 0.15776081, 0.13617092, 0.32916343],\n",
       "       [0.68277513, 0.51496232, 0.5650689 , 0.90332689, 0.5020627 ]])"
      ]
     },
     "execution_count": 45,
     "metadata": {},
     "output_type": "execute_result"
    }
   ],
   "source": [
    "# we show now the effect of scaling onto the data\n",
    "scale = MinMaxScaler()\n",
    "uscaled = scale.fit_transform(u)\n",
    "vscaled = scale.fit_transform(v)\n",
    "vscaled"
   ]
  },
  {
   "cell_type": "code",
   "execution_count": 28,
   "metadata": {
    "id": "aoevNr1ikZtA"
   },
   "outputs": [],
   "source": [
    "W = weight_function(uscaled,vscaled,kern=Tricubic,tau=0.35)"
   ]
  },
  {
   "cell_type": "code",
   "execution_count": 29,
   "metadata": {
    "id": "s73EG_FGkefQ"
   },
   "outputs": [],
   "source": [
    "class Lowess:\n",
    "    def __init__(self, kernel = Gaussian, tau=0.05):\n",
    "        self.kernel = kernel\n",
    "        self.tau = tau\n",
    "\n",
    "    def fit(self, x, y):\n",
    "        kernel = self.kernel\n",
    "        tau = self.tau\n",
    "        self.xtrain_ = x\n",
    "        self.yhat_ = y\n",
    "\n",
    "    def predict(self, x_new):\n",
    "        check_is_fitted(self)\n",
    "        x = self.xtrain_\n",
    "        y = self.yhat_\n",
    "        lm = linear_model.Ridge(alpha=0.001)\n",
    "        w = weight_function(x,x_new,self.kernel,self.tau)\n",
    "\n",
    "        if np.isscalar(x_new):\n",
    "          lm.fit(np.diag(w)@(x.reshape(-1,1)),np.diag(w)@(y.reshape(-1,1)))\n",
    "          yest = lm.predict([[x_new]])[0][0]\n",
    "        else:\n",
    "          n = len(x_new)\n",
    "          yest_test = np.zeros(n)\n",
    "          #Looping through all x-points\n",
    "          for i in range(n):\n",
    "            lm.fit(np.diag(w[:,i])@x,np.diag(w[:,i])@y)\n",
    "            yest_test[i] = lm.predict(x_new[i].reshape(1,-1))\n",
    "        return yest_test"
   ]
  },
  {
   "cell_type": "code",
   "execution_count": 30,
   "metadata": {
    "id": "P5US-j1Ike_V"
   },
   "outputs": [],
   "source": [
    "model = Lowess(kernel=Epanechnikov,tau=0.02)"
   ]
  },
  {
   "cell_type": "code",
   "execution_count": 46,
   "metadata": {
    "id": "GHIw1PgnmTBJ"
   },
   "outputs": [
    {
     "data": {
      "text/plain": [
       "array([[1.        , 0.61757106, 0.5361497 ],\n",
       "       [1.        , 0.72868217, 0.58973632],\n",
       "       [1.        , 0.64599483, 0.51686986],\n",
       "       ...,\n",
       "       [0.2       , 0.17312661, 0.19336547],\n",
       "       [0.2       , 0.13436693, 0.2869294 ],\n",
       "       [0.2       , 0.13178295, 0.31386447]])"
      ]
     },
     "execution_count": 46,
     "metadata": {},
     "output_type": "execute_result"
    }
   ],
   "source": [
    "xscaled = scale.fit_transform(x)\n",
    "xscaled"
   ]
  },
  {
   "cell_type": "code",
   "execution_count": 43,
   "metadata": {
    "id": "AEiR6W-amW8e"
   },
   "outputs": [
    {
     "data": {
      "text/plain": [
       "array([17.14728283, 16.25531338, 17.23587758, 17.36140295, 17.33488234,\n",
       "       14.17189219, 14.03667363, 14.21044136, 13.85943883, 15.55357175,\n",
       "       16.17119179, 16.56402105, 15.64846547, 14.14938007, 28.09964774,\n",
       "       20.78917374, 20.68016351, 20.37236789, 30.52438598, 31.02755441,\n",
       "       27.80746593, 28.64909554, 29.12040199, 27.50208472, 20.46885358,\n",
       "       13.08466602, 13.92622066, 13.90255415, 12.23740013, 30.52438598,\n",
       "       25.09687697, 28.43429847, 20.51048878, 19.29510412, 18.53066657,\n",
       "       18.56809089, 19.28338204, 14.61453527, 13.79118638, 14.81198409,\n",
       "       15.0816837 , 11.88187277, 12.77225297, 11.29981087, 18.96057223,\n",
       "       24.68345931, 18.59720501, 18.84031272, 27.42441685, 28.35645661,\n",
       "       32.98144881, 31.78176082, 34.57615718, 34.44194469, 31.02878846,\n",
       "       31.59523198, 28.31394544, 30.47253648, 30.24327995, 24.68345931,\n",
       "       27.40800258, 14.37416611, 14.05397316, 14.92713642, 14.90008572,\n",
       "       16.68174692, 13.26971477, 13.48991788, 13.67199078, 13.93251258,\n",
       "        4.51000101, 15.93940508, 15.11961165, 14.30351018, 15.1561944 ,\n",
       "       26.65115942, 26.9287764 , 26.6460001 , 30.51580157, 27.00316329,\n",
       "       30.1607391 , 27.04792801, 30.32966445, 30.58627285, 15.00252338,\n",
       "       16.68174692, 15.37961074, 15.37818718, 16.23599469, 12.13048441,\n",
       "       13.79118638, 14.03763081, 14.51286003, 12.93003771, 12.18995986,\n",
       "       15.83293137, 19.84811634, 18.6031619 , 19.89394161, 19.09238414,\n",
       "       20.88642081, 30.86172675, 11.82877225, 12.17204488, 12.93019152,\n",
       "       13.50182645, 20.19548787, 30.18293318, 24.69778951, 28.65392262,\n",
       "        3.47016857, 27.19147339, 20.37804439, 30.0965434 , 15.06463576,\n",
       "       14.38876295, 34.96322484, 28.26895227, 27.57903878, 26.69228875,\n",
       "       17.33009688, 26.79105286, 22.42171296, 16.33087973, 21.02400482,\n",
       "       19.97790778, 18.52135277, 33.21206328, 26.9011997 , 34.53055682,\n",
       "       24.54920244, 18.08088418, 18.12163414, 18.89718202, 14.9703569 ,\n",
       "       12.69396611, 13.57791518, 12.68392045, 14.46128443, 30.20433634,\n",
       "       33.19103848, 30.13079264, 33.86870535, 32.56606582, 31.40125446,\n",
       "       31.43735774, 28.04681888, 27.07211321, 28.62646298, 33.12697714,\n",
       "       19.61934128, 18.37828558, 18.40668529, 18.80430887, 13.06142924,\n",
       "       13.73505433, 13.3981832 , 12.87108922, 17.94519804, 17.99467177,\n",
       "       18.12515024, 18.42110124, 19.75487906, 17.8818987 , 17.97757143,\n",
       "       30.43481903, 24.63495679, 19.95298479, 24.57406747, 25.45221021,\n",
       "       31.17937138, 27.10639371, 22.32517768, 31.75149872, 19.41500098,\n",
       "       27.32376538, 26.67274586, 26.6416181 , 26.78434033, 31.80449312,\n",
       "       28.56906807, 28.111034  , 24.55939114, 30.12052574, 29.88522778,\n",
       "       14.63991276, 14.7054294 , 15.67707815, 14.59273196, 19.67081718,\n",
       "       18.49935321, 20.90660708, 19.63519392, 32.23597018, 30.32966445,\n",
       "       31.75149872, 31.80449312, 18.79867256, 18.26756866, 18.20212596,\n",
       "       18.45233658, 31.03971488, 32.31890818, 30.47025769, 24.55575362,\n",
       "       26.49260278, 15.6723395 , 25.882861  , 23.09935839, 21.39215639,\n",
       "       13.96964099, 15.15676087, 16.03694838, 16.30748036, 30.57478258,\n",
       "       28.83713357, 33.36953432, 27.21562867, 32.39401254, 15.97483955,\n",
       "       15.91820635, 14.90715862, 14.29902   , 18.31836858, 19.0782755 ,\n",
       "       18.85357019, 18.31360618, 14.56002689, 14.77354792, 14.24473792,\n",
       "       14.14493278, 30.87787055, 23.45174855, 30.21697414, 24.92586194,\n",
       "       30.56334585, 30.51655139, 30.80316157, 30.39208789, 23.20162378,\n",
       "       26.83446543,  3.82714645, 31.67236094, 30.95036005, 33.29575829,\n",
       "       32.16673377, 31.7997349 , 17.77445512, 16.37161978, 17.00397611,\n",
       "       18.8629468 , 20.91726255, 20.87784042, 24.81793156, 19.31341139,\n",
       "       19.41670957, 19.16142678, 20.92583948, 18.8793214 , 18.20302867,\n",
       "       17.37456285, 19.04049047, 17.90767666, 15.14446547, 30.34945873,\n",
       "       25.34234054, 27.56790943, 29.35017962, 25.35663974, 22.69873393,\n",
       "       24.20113259, 27.335909  , 29.61950316, 23.29333927, 26.72557884,\n",
       "       23.2883706 , 31.79237374, 30.39320938, 19.3981924 , 20.89443727,\n",
       "       25.47525797, 19.32296657, 19.44929409, 16.11748858, 16.53260044,\n",
       "       15.48238639, 16.05913546, 14.04703008, 15.15780132, 17.30244768,\n",
       "       15.49030907, 31.89856582, 32.2114309 , 30.7973576 , 26.78493612,\n",
       "       26.12606919, 15.65961607, 27.15362144, 17.7138029 , 29.42052777,\n",
       "       29.53357569, 32.26445058, 31.26355247, 23.13128932, 20.41565955,\n",
       "       20.9774068 , 22.86322816, 30.37369602, 31.83006478, 30.4250388 ,\n",
       "       32.13300437, 23.16223998, 25.38222068, 25.51963658, 19.40991396,\n",
       "       30.39664743, 25.4665997 , 27.00079996, 27.27991722, 28.91976962,\n",
       "       31.95065294, 23.08814516, 32.08294119, 31.48451139, 30.89631529,\n",
       "       33.34711163, 27.99821496, 31.74522585, 30.49219251, 32.00576071,\n",
       "       22.22505329,  4.92078367, 26.82957337, 28.9756776 , 25.24575824,\n",
       "       23.0131783 , 22.10601432, 21.10572126, 25.40788593, 33.42032798,\n",
       "       32.36057477, 33.14031428, 30.65637461, 32.34484456, 31.681625  ,\n",
       "       31.54477589, 29.38563657, 30.57478258, 29.80717655, 29.44342783,\n",
       "       29.16536406, 28.72031468, 27.02929688, 26.90962296, 27.40334167,\n",
       "       24.88866995, 22.18127757, 23.87442595, 19.09696199, 16.1695378 ,\n",
       "       20.92381997, 19.2409093 , 27.74109402, 27.68197539, 28.16304033,\n",
       "       27.79431037, 25.22220641, 23.42520356, 25.35950194, 29.88095207,\n",
       "       31.47283337, 31.57039155, 29.58938977, 30.41452989, 27.81474722,\n",
       "       29.17706689, 28.96696191, 31.57875888, 31.57875888, 31.52727804,\n",
       "       21.648611  , 18.68809769, 22.01680909, 20.10577064, 24.15338036,\n",
       "       25.44031783, 25.00450326, 25.04885381, 30.52438598, 25.63594924,\n",
       "       26.91790127, 26.93879018])"
      ]
     },
     "execution_count": 43,
     "metadata": {},
     "output_type": "execute_result"
    }
   ],
   "source": [
    "model.fit(xscaled,y)\n",
    "model.predict(xscaled)"
   ]
  },
  {
   "cell_type": "code",
   "execution_count": 33,
   "metadata": {
    "id": "rW-WJvgemdDS"
   },
   "outputs": [],
   "source": [
    "yhat = model.predict(xscaled)"
   ]
  },
  {
   "cell_type": "code",
   "execution_count": 34,
   "metadata": {
    "colab": {
     "base_uri": "https://localhost:8080/"
    },
    "id": "XeHK5XXpmfy0",
    "outputId": "4b91dc39-8eb0-4970-927e-a12597127bf6"
   },
   "outputs": [
    {
     "data": {
      "text/plain": [
       "9.608473561664916"
      ]
     },
     "execution_count": 34,
     "metadata": {},
     "output_type": "execute_result"
    }
   ],
   "source": [
    "mse(yhat,y)"
   ]
  },
  {
   "cell_type": "code",
   "execution_count": 35,
   "metadata": {
    "id": "yLeKhtEHm3sh"
   },
   "outputs": [],
   "source": [
    "# we can try the \"elbow\" approach for tunning tau\n",
    "taus = np.arange(0.01,0.25,0.01)"
   ]
  },
  {
   "cell_type": "code",
   "execution_count": 36,
   "metadata": {
    "id": "-Me88zXpnlMw"
   },
   "outputs": [],
   "source": [
    "mse_list = []\n",
    "for tau in taus:\n",
    "  model = Lowess(kernel=Epanechnikov,tau=tau)\n",
    "  model.fit(xscaled,y)\n",
    "  yhat = model.predict(xscaled)\n",
    "  mse_list.append(mse(yhat,y))"
   ]
  },
  {
   "cell_type": "code",
   "execution_count": 37,
   "metadata": {
    "colab": {
     "base_uri": "https://localhost:8080/",
     "height": 550
    },
    "id": "XqBcwDXonlvH",
    "outputId": "3fe70a49-8584-411e-ab4f-2f0056005ebe"
   },
   "outputs": [
    {
     "data": {
      "text/plain": [
       "[<matplotlib.lines.Line2D at 0x7f24b9d52b90>]"
      ]
     },
     "execution_count": 37,
     "metadata": {},
     "output_type": "execute_result"
    },
    {
     "data": {
      "image/png": "[encoded data removed]",
      "text/plain": [
       "<Figure size 768x576 with 1 Axes>"
      ]
     },
     "metadata": {
      "image/png": {
       "height": 495,
       "width": 667
      }
     },
     "output_type": "display_data"
    }
   ],
   "source": [
    "plt.plot(taus,mse_list)"
   ]
  },
  {
   "cell_type": "code",
   "execution_count": 38,
   "metadata": {
    "colab": {
     "base_uri": "https://localhost:8080/"
    },
    "id": "Pv7EDClIn7Y7",
    "outputId": "b9b4782b-2db7-47f4-bb88-49746dd8ea38"
   },
   "outputs": [
    {
     "name": "stdout",
     "output_type": "stream",
     "text": [
      "The Cross-validated Mean Squared Error for Locally Weighted Regression is : 16.455751824170626\n",
      "The Cross-validated Mean Squared Error for Random Forest is : 17.617112748974662\n"
     ]
    }
   ],
   "source": [
    "mse_lwr = []\n",
    "mse_rf = []\n",
    "kf = KFold(n_splits=10,shuffle=True,random_state=1234)\n",
    "model_rf = RandomForestRegressor(n_estimators=200,max_depth=7)\n",
    "# model_lw = Lowess_AG_MD(f=1/3,iter=2,intercept=True)\n",
    "model_lw = Lowess(kernel= Epanechnikov,tau=0.14)\n",
    "\n",
    "for idxtrain, idxtest in kf.split(x):\n",
    "  xtrain = x[idxtrain]\n",
    "  ytrain = y[idxtrain]\n",
    "  ytest = y[idxtest]\n",
    "  xtest = x[idxtest]\n",
    "  xtrain = scale.fit_transform(xtrain)\n",
    "  xtest = scale.transform(xtest)\n",
    "\n",
    "  model_lw.fit(xtrain,ytrain)\n",
    "  yhat_lw = model_lw.predict(xtest)\n",
    "\n",
    "  model_rf.fit(xtrain,ytrain)\n",
    "  yhat_rf = model_rf.predict(xtest)\n",
    "\n",
    "  mse_lwr.append(mse(ytest,yhat_lw))\n",
    "  mse_rf.append(mse(ytest,yhat_rf))\n",
    "print('The Cross-validated Mean Squared Error for Locally Weighted Regression is : '+str(np.mean(mse_lwr)))\n",
    "print('The Cross-validated Mean Squared Error for Random Forest is : '+str(np.mean(mse_rf)))"
   ]
  },
  {
   "cell_type": "code",
   "execution_count": null,
   "metadata": {
    "id": "_opnPB27opDD"
   },
   "outputs": [],
   "source": []
  },
  {
   "cell_type": "markdown",
   "metadata": {
    "id": "CPW9-6zgqTMp"
   },
   "source": [
    "## Efficient Classes for Computing all the Pairwise Distances"
   ]
  },
  {
   "cell_type": "markdown",
   "metadata": {
    "id": "wCjNLl4yqjg1"
   },
   "source": []
  },
  {
   "cell_type": "markdown",
   "metadata": {
    "id": "wB_2WannqjjK"
   },
   "source": [
    "### Scipy Classes"
   ]
  },
  {
   "cell_type": "code",
   "execution_count": 39,
   "metadata": {
    "colab": {
     "base_uri": "https://localhost:8080/"
    },
    "id": "dj_W1N7Co5WB",
    "outputId": "be21cd80-485b-485f-b820-d753d63a7cd4"
   },
   "outputs": [
    {
     "name": "stdout",
     "output_type": "stream",
     "text": [
      "Pairwise distances:\n",
      "[[0.02176528 0.97589949 1.07465667 ... 1.03367484 1.01079351 0.43947887]\n",
      " [0.14026861 1.04976726 1.15993053 ... 1.11468563 1.08905696 0.49942492]\n",
      " [0.03618592 0.98196775 1.08333189 ... 1.04113141 1.01752722 0.44213376]\n",
      " ...\n",
      " [0.96796902 0.0156773  0.15794466 ... 0.09154571 0.05475171 0.55698237]\n",
      " [0.95897078 0.11560343 0.19009382 ... 0.14837735 0.13319966 0.55417906]\n",
      " [0.95406098 0.14144446 0.21195662 ... 0.17423515 0.1604333  0.55106959]]\n"
     ]
    }
   ],
   "source": [
    "from scipy.spatial.distance import cdist\n",
    "\n",
    "\n",
    "\n",
    "\n",
    "# Compute pairwise distances using Euclidean distance metric\n",
    "pairwise_distances = cdist(xtrain, xtest, metric='euclidean')\n",
    "\n",
    "print(\"Pairwise distances:\")\n",
    "print(pairwise_distances)"
   ]
  },
  {
   "cell_type": "markdown",
   "metadata": {
    "id": "s_V5_7yrrVSZ"
   },
   "source": [
    "## Faiss"
   ]
  },
  {
   "cell_type": "code",
   "execution_count": 40,
   "metadata": {
    "colab": {
     "base_uri": "https://localhost:8080/"
    },
    "id": "G7poizBTpOkg",
    "outputId": "9c09288c-e3fe-44bf-b975-d52081977fec"
   },
   "outputs": [
    {
     "name": "stdout",
     "output_type": "stream",
     "text": [
      "Collecting faiss-cpu\n",
      "  Downloading faiss_cpu-1.7.4-cp311-cp311-manylinux_2_17_x86_64.manylinux2014_x86_64.whl (17.6 MB)\n",
      "\u001b[2K     \u001b[38;2;114;156;31m━━━━━━━━━━━━━━━━━━━━━━━━━━━━━━━━━━━━━━━━\u001b[0m \u001b[32m17.6/17.6 MB\u001b[0m \u001b[31m9.9 MB/s\u001b[0m eta \u001b[36m0:00:00\u001b[0m0m eta \u001b[36m0:00:01\u001b[0m0:01\u001b[0m:01\u001b[0m\n",
      "\u001b[?25hInstalling collected packages: faiss-cpu\n",
      "Successfully installed faiss-cpu-1.7.4\n"
     ]
    }
   ],
   "source": [
    "!pip install faiss-cpu"
   ]
  },
  {
   "cell_type": "code",
   "execution_count": 41,
   "metadata": {
    "id": "kkhNU8V4rYKR"
   },
   "outputs": [],
   "source": [
    "import faiss"
   ]
  },
  {
   "cell_type": "code",
   "execution_count": 42,
   "metadata": {
    "colab": {
     "base_uri": "https://localhost:8080/"
    },
    "id": "djU4as-Proiz",
    "outputId": "1b51a41e-5d1f-4d4b-8055-c1edd5e1c341"
   },
   "outputs": [
    {
     "name": "stdout",
     "output_type": "stream",
     "text": [
      "Pairwise distances:\n",
      "[0.00000000e+00 6.89029694e-05 8.41617584e-05 1.24669075e-03\n",
      " 2.01201439e-03 3.51595879e-03 5.63931465e-03 5.67364693e-03\n",
      " 6.98184967e-03 7.14087486e-03 7.15255737e-03 7.41600990e-03\n",
      " 8.37707520e-03 8.65793228e-03 1.06999874e-02 1.07526779e-02\n",
      " 1.18432045e-02 1.22568607e-02 1.24166012e-02 1.27058029e-02\n",
      " 1.35922432e-02 1.39296055e-02 1.41646862e-02 1.41646862e-02\n",
      " 1.52766705e-02 1.52938366e-02 1.54678822e-02 1.56049728e-02\n",
      " 1.63900852e-02 1.66249275e-02 1.70717239e-02 1.73778534e-02\n",
      " 1.74448490e-02 1.79543495e-02 1.82802677e-02 1.89366341e-02\n",
      " 1.91261768e-02 1.94141865e-02 1.96754932e-02 2.00660229e-02\n",
      " 2.01635361e-02 2.02689171e-02 2.18474865e-02 2.23650932e-02\n",
      " 2.28676796e-02 2.32322216e-02 2.53779888e-02 2.58045197e-02\n",
      " 2.71050930e-02 2.76982784e-02 3.11198235e-02 3.18522453e-02\n",
      " 3.38265896e-02 3.49245071e-02 3.58791351e-02 3.65049839e-02\n",
      " 3.68406773e-02 3.79137993e-02 3.87270451e-02 3.94816399e-02\n",
      " 4.02293205e-02 4.47731018e-02 4.50217724e-02 4.51204777e-02\n",
      " 4.57866192e-02 4.57899570e-02 4.66330051e-02 4.77695465e-02\n",
      " 4.94666100e-02 5.06229401e-02 5.33051491e-02 5.37028313e-02\n",
      " 5.47318459e-02 5.59849739e-02 6.00101948e-02 6.01987839e-02\n",
      " 6.02993965e-02 6.29110336e-02 6.51352406e-02 6.54687881e-02\n",
      " 6.54687881e-02 6.99865818e-02 7.04207420e-02 7.61256218e-02\n",
      " 7.62591362e-02 7.64465332e-02 8.30416679e-02 8.55231285e-02\n",
      " 8.86602402e-02 9.46946144e-02 1.02707624e-01 1.03846312e-01\n",
      " 1.07674599e-01 1.08068943e-01 1.14173889e-01 1.17579937e-01\n",
      " 1.37423992e-01 1.37953758e-01 1.43174648e-01 1.56218529e-01\n",
      " 1.71732903e-01 1.88498020e-01 2.03468800e-01 2.16626167e-01\n",
      " 2.16819048e-01 2.23085403e-01 2.26958513e-01 2.27404833e-01\n",
      " 2.27931499e-01 2.29085445e-01 2.29225159e-01 2.30184317e-01\n",
      " 2.31262445e-01 2.32359171e-01 2.36254930e-01 2.37027168e-01\n",
      " 2.37227201e-01 2.37641335e-01 2.39314079e-01 2.40630388e-01\n",
      " 2.40901232e-01 2.49425173e-01 2.50255346e-01 2.51953363e-01\n",
      " 2.56600618e-01 2.58310080e-01 2.59598970e-01 2.60360003e-01\n",
      " 2.60445595e-01 2.60893583e-01 2.62591124e-01 2.63823748e-01\n",
      " 2.64472008e-01 2.64652967e-01 2.64764547e-01 2.64852524e-01\n",
      " 2.65021563e-01 2.66428947e-01 2.68000841e-01 2.68592834e-01\n",
      " 2.69621134e-01 2.70002842e-01 2.71020889e-01 2.72032976e-01\n",
      " 2.72112370e-01 2.72315025e-01 2.73426294e-01 2.79428720e-01\n",
      " 2.81689882e-01 2.83302307e-01 2.89648294e-01 2.91173935e-01\n",
      " 2.98879385e-01 3.02763700e-01 3.04439545e-01 3.13375235e-01\n",
      " 3.20025682e-01 3.33981276e-01 3.42078924e-01 3.42924118e-01\n",
      " 3.43109369e-01 3.44991922e-01 3.48284960e-01 3.50783348e-01\n",
      " 3.53718758e-01 3.65344524e-01 3.74951363e-01 3.81540775e-01\n",
      " 3.82490635e-01 3.96610022e-01 4.00058031e-01 4.01846170e-01\n",
      " 4.10602808e-01 4.15183067e-01 4.18579102e-01 4.31473851e-01\n",
      " 4.32767034e-01 4.46068645e-01 4.50091600e-01 4.59062934e-01\n",
      " 4.63909507e-01 4.68106747e-01 4.75705743e-01 4.85637307e-01\n",
      " 5.01122236e-01 5.36220670e-01 5.48393607e-01 7.41344571e-01\n",
      " 7.55443692e-01 9.33970809e-01 9.43479776e-01 9.49245691e-01\n",
      " 9.49711800e-01 9.52416420e-01 9.56727505e-01 9.62035894e-01\n",
      " 9.65035915e-01 9.78936195e-01 9.79720116e-01 9.85764980e-01\n",
      " 9.87357855e-01 9.87362742e-01 9.88947988e-01 9.90031004e-01\n",
      " 9.90285873e-01 9.90708470e-01 9.92028475e-01 9.96262431e-01\n",
      " 1.00136113e+00 1.00664842e+00 1.00789261e+00 1.01005650e+00\n",
      " 1.01049078e+00 1.01213634e+00 1.02560878e+00 1.03064644e+00\n",
      " 1.03210354e+00 1.03391957e+00 1.03504145e+00 1.03605556e+00\n",
      " 1.03754044e+00 1.03756618e+00 1.03765905e+00 1.03885770e+00\n",
      " 1.04315889e+00 1.04599404e+00 1.05631459e+00 1.05685174e+00\n",
      " 1.06058216e+00 1.06538486e+00 1.06739151e+00 1.06994331e+00\n",
      " 1.06994331e+00 1.07142341e+00 1.07397175e+00 1.07585001e+00\n",
      " 1.07601786e+00 1.07770503e+00 1.08505917e+00 1.08680367e+00\n",
      " 1.08817172e+00 1.08902550e+00 1.09062469e+00 1.09164238e+00\n",
      " 1.09226370e+00 1.10191607e+00 1.10201144e+00 1.10387802e+00\n",
      " 1.10442805e+00 1.10478568e+00 1.10882235e+00 1.10900879e+00\n",
      " 1.10919142e+00 1.11012876e+00 1.11215758e+00 1.11316061e+00\n",
      " 1.11366820e+00 1.11534023e+00 1.12077057e+00 1.12533951e+00\n",
      " 1.12635112e+00 1.13241196e+00 1.14403856e+00 1.14631629e+00\n",
      " 1.15551054e+00 1.15645421e+00 1.15820503e+00 1.15822530e+00\n",
      " 1.16368222e+00 1.16481304e+00 1.16512966e+00 1.16515732e+00\n",
      " 1.17012739e+00 1.17270303e+00 1.17740870e+00 1.17902565e+00\n",
      " 1.17932844e+00 1.18363810e+00 1.18604517e+00 1.18660045e+00\n",
      " 1.19114423e+00 1.19578338e+00 1.19835234e+00 1.19894099e+00\n",
      " 1.20307207e+00 1.20547175e+00 1.20785820e+00 1.21472788e+00\n",
      " 1.21548843e+00 1.21594679e+00 1.21640992e+00 1.22002983e+00\n",
      " 1.22368646e+00 1.22614491e+00 1.22660673e+00 1.22936165e+00\n",
      " 1.23133647e+00 1.23144352e+00 1.23368812e+00 1.23470831e+00\n",
      " 1.23614228e+00 1.23639059e+00 1.23729599e+00 1.24229002e+00\n",
      " 1.24252415e+00 1.24268305e+00 1.25274587e+00 1.25323939e+00\n",
      " 1.25584245e+00 1.25584245e+00 1.25637770e+00 1.25746191e+00\n",
      " 1.25810742e+00 1.26089382e+00 1.26147938e+00 1.26318824e+00\n",
      " 1.26401150e+00 1.26575327e+00 1.26704192e+00 1.26718020e+00\n",
      " 1.26784039e+00 1.26784039e+00 1.26784039e+00 1.26867247e+00\n",
      " 1.27560937e+00 1.27882445e+00 1.28156090e+00 1.28485978e+00\n",
      " 1.28524446e+00 1.28686404e+00 1.28686404e+00 1.28835201e+00\n",
      " 1.29310203e+00 1.29750013e+00 1.30352616e+00 1.30675840e+00\n",
      " 1.31097507e+00 1.31450725e+00 1.31580734e+00 1.31618941e+00\n",
      " 1.31634140e+00 1.31666923e+00 1.31953788e+00 1.32340932e+00\n",
      " 1.32447529e+00 1.32502985e+00 1.32726991e+00 1.33073533e+00\n",
      " 1.33149290e+00 1.33281446e+00 1.33290875e+00 1.33290875e+00\n",
      " 1.33445263e+00 1.33529496e+00 1.33575273e+00 1.33855247e+00\n",
      " 1.33900273e+00 1.34437847e+00 1.34437847e+00 1.34543884e+00\n",
      " 1.34686291e+00 1.34754133e+00 1.35034776e+00 1.35064912e+00\n",
      " 1.35095406e+00 1.35107350e+00 1.35132718e+00 1.35370636e+00\n",
      " 1.35804975e+00 1.35960543e+00 1.36554933e+00 1.36660552e+00\n",
      " 1.37336087e+00 1.37506378e+00 1.37594151e+00 1.37655568e+00\n",
      " 1.37964630e+00 1.38193321e+00 1.38348854e+00 1.38348854e+00\n",
      " 1.41668344e+00 1.42974508e+00 1.43854427e+00 1.44269979e+00\n",
      " 1.44456875e+00 1.46222472e+00 1.48409545e+00 1.51102030e+00\n",
      " 1.56443262e+00 1.65644395e+00 1.67591047e+00]\n"
     ]
    }
   ],
   "source": [
    "# Example vectors\n",
    "vector1 = xtrain\n",
    "vector2 = xtest\n",
    "\n",
    "# Concatenate the vectors into a single array\n",
    "all_vectors = np.concatenate((vector1, vector2), axis=0)\n",
    "\n",
    "# Initialize Faiss index\n",
    "d = all_vectors.shape[1]  # Dimension of vectors\n",
    "index = faiss.IndexFlatL2(d)  # L2 distance (Euclidean distance)\n",
    "\n",
    "# Add vectors to the index\n",
    "index.add(all_vectors)\n",
    "\n",
    "# Query for the nearest neighbors (in this case, excluding the vector itself)\n",
    "k = all_vectors.shape[0] - 1  # Return distances to all other vectors\n",
    "D, I = index.search(all_vectors, k)\n",
    "\n",
    "# The first row of D corresponds to distances from vector1 to all vectors,\n",
    "# and the second row corresponds to distances from vector2 to all vectors\n",
    "pairwise_distances = D[1]\n",
    "\n",
    "print(\"Pairwise distances:\")\n",
    "print(pairwise_distances)"
   ]
  },
  {
   "cell_type": "code",
   "execution_count": null,
   "metadata": {
    "id": "AZGjUXNKsOZ9"
   },
   "outputs": [],
   "source": []
  }
 ],
 "metadata": {
  "colab": {
   "provenance": []
  },
  "kernelspec": {
   "display_name": "Python 3 (ipykernel)",
   "language": "python",
   "name": "python3"
  },
  "language_info": {
   "codemirror_mode": {
    "name": "ipython",
    "version": 3
   },
   "file_extension": ".py",
   "mimetype": "text/x-python",
   "name": "python",
   "nbconvert_exporter": "python",
   "pygments_lexer": "ipython3",
   "version": "3.11.5"
  }
 },
 "nbformat": 4,
 "nbformat_minor": 1
}
