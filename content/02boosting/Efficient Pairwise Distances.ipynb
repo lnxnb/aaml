{
 "cells": [
  {
   "cell_type": "code",
   "execution_count": 2,
   "metadata": {},
   "outputs": [
    {
     "name": "stdout",
     "output_type": "stream",
     "text": [
      "Collecting usearch\n",
      "  Obtaining dependency information for usearch from https://files.pythonhosted.org/packages/59/72/7daf76b374f6a53deaa1536d69333c1a1280dbe88892d68fb07df21a4879/usearch-2.8.15-cp311-cp311-manylinux_2_28_x86_64.whl.metadata\n",
      "  Downloading usearch-2.8.15-cp311-cp311-manylinux_2_28_x86_64.whl.metadata (26 kB)\n",
      "Requirement already satisfied: numpy in /home/ian/anaconda3/lib/python3.11/site-packages (from usearch) (1.24.3)\n",
      "Requirement already satisfied: tqdm in /home/ian/anaconda3/lib/python3.11/site-packages (from usearch) (4.65.0)\n",
      "Collecting ucall (from usearch)\n",
      "  Obtaining dependency information for ucall from https://files.pythonhosted.org/packages/7d/02/d532582bf4732645c298b0ddc8fd873359394919e21460fffad02625be8b/ucall-0.5.1-cp311-cp311-manylinux_2_27_x86_64.manylinux_2_28_x86_64.whl.metadata\n",
      "  Downloading ucall-0.5.1-cp311-cp311-manylinux_2_27_x86_64.manylinux_2_28_x86_64.whl.metadata (12 kB)\n",
      "Requirement already satisfied: pillow in /home/ian/anaconda3/lib/python3.11/site-packages (from ucall->usearch) (9.4.0)\n",
      "Downloading usearch-2.8.15-cp311-cp311-manylinux_2_28_x86_64.whl (1.5 MB)\n",
      "\u001b[2K   \u001b[38;2;114;156;31m━━━━━━━━━━━━━━━━━━━━━━━━━━━━━━━━━━━━━━━━\u001b[0m \u001b[32m1.5/1.5 MB\u001b[0m \u001b[31m10.6 MB/s\u001b[0m eta \u001b[36m0:00:00\u001b[0mm eta \u001b[36m0:00:01\u001b[0m0:01\u001b[0m\n",
      "\u001b[?25hDownloading ucall-0.5.1-cp311-cp311-manylinux_2_27_x86_64.manylinux_2_28_x86_64.whl (1.3 MB)\n",
      "\u001b[2K   \u001b[38;2;114;156;31m━━━━━━━━━━━━━━━━━━━━━━━━━━━━━━━━━━━━━━━━\u001b[0m \u001b[32m1.3/1.3 MB\u001b[0m \u001b[31m16.3 MB/s\u001b[0m eta \u001b[36m0:00:00\u001b[0m31m17.7 MB/s\u001b[0m eta \u001b[36m0:00:01\u001b[0m\n",
      "\u001b[?25hInstalling collected packages: ucall, usearch\n",
      "Successfully installed ucall-0.5.1 usearch-2.8.15\n"
     ]
    }
   ],
   "source": [
    "!pip install usearch"
   ]
  },
  {
   "cell_type": "code",
   "execution_count": 1,
   "metadata": {},
   "outputs": [],
   "source": [
    "import numpy as np\n",
    "from scipy.spatial.distance import cdist\n",
    "from usearch.index import search, MetricKind, Matches, BatchMatches"
   ]
  },
  {
   "cell_type": "markdown",
   "metadata": {},
   "source": [
    "# Example with USearch library\n",
    "\n",
    "Reference: https://github.com/unum-cloud/usearch"
   ]
  },
  {
   "cell_type": "code",
   "execution_count": 2,
   "metadata": {},
   "outputs": [],
   "source": [
    "# Generate 10'000 random vectors with 1024 dimensions\n",
    "vectors = np.random.rand(10000, 1024).astype(np.float32)\n",
    "vector = np.random.rand(1024).astype(np.float32)\n",
    "\n",
    "one_in_many: Matches = search(vectors, vector, vectors.shape[0], MetricKind.L2sq, exact=True)\n",
    "\n",
    "many_in_many: BatchMatches = search(vectors, vectors, vectors.shape[0], MetricKind.L2sq, exact=True)\n",
    "\n"
   ]
  },
  {
   "cell_type": "code",
   "execution_count": 10,
   "metadata": {},
   "outputs": [
    {
     "data": {
      "text/plain": [
       "array([[0.9489768 , 0.22184363, 0.02418065, ..., 0.8075211 , 0.5554761 ,\n",
       "        0.6378045 ],\n",
       "       [0.82954603, 0.81962883, 0.9386333 , ..., 0.14193797, 0.47092098,\n",
       "        0.6287613 ],\n",
       "       [0.3138164 , 0.11954167, 0.17589971, ..., 0.9803737 , 0.55535626,\n",
       "        0.2518607 ],\n",
       "       ...,\n",
       "       [0.5860322 , 0.63348436, 0.98931044, ..., 0.9566165 , 0.8487363 ,\n",
       "        0.9923459 ],\n",
       "       [0.13952401, 0.57835484, 0.27675444, ..., 0.82693315, 0.19215311,\n",
       "        0.18101464],\n",
       "       [0.9568119 , 0.6794955 , 0.30310842, ..., 0.429211  , 0.96527183,\n",
       "        0.62788767]], dtype=float32)"
      ]
     },
     "execution_count": 10,
     "metadata": {},
     "output_type": "execute_result"
    }
   ],
   "source": [
    "pairwise_distances1 = cdist(vectors, [vector], metric='euclidean')\n",
    "pairwise_distances2 = cdist(vectors, vectors, metric='euclidean')"
   ]
  },
  {
   "cell_type": "code",
   "execution_count": null,
   "metadata": {},
   "outputs": [],
   "source": [
    "vectors.shape"
   ]
  },
  {
   "cell_type": "code",
   "execution_count": 4,
   "metadata": {},
   "outputs": [
    {
     "data": {
      "text/plain": [
       "array([[  0.     , 151.80284, 152.1035 , ..., 190.18558, 190.81108,\n",
       "        190.96123],\n",
       "       [  0.     , 147.04694, 148.16756, ..., 188.85797, 189.96431,\n",
       "        190.12527],\n",
       "       [  0.     , 149.94037, 150.03108, ..., 191.68993, 192.018  ,\n",
       "        193.61697],\n",
       "       ...,\n",
       "       [  0.     , 150.86911, 151.01382, ..., 192.04836, 192.694  ,\n",
       "        192.7545 ],\n",
       "       [  0.     , 149.73387, 150.4768 , ..., 194.8426 , 194.92531,\n",
       "        196.29407],\n",
       "       [  0.     , 149.84862, 150.16122, ..., 191.06216, 191.29985,\n",
       "        193.41571]], dtype=float32)"
      ]
     },
     "execution_count": 4,
     "metadata": {},
     "output_type": "execute_result"
    }
   ],
   "source": [
    "one_in_many.distances\n",
    "many_in_many.distances"
   ]
  },
  {
   "cell_type": "code",
   "execution_count": 11,
   "metadata": {},
   "outputs": [
    {
     "data": {
      "text/plain": [
       "[(6398, 148.28492736816406),\n",
       " (143, 149.36392211914062),\n",
       " (5364, 149.3961181640625),\n",
       " (2408, 150.33773803710938),\n",
       " (4788, 150.7617645263672),\n",
       " (4569, 151.26873779296875),\n",
       " (8272, 151.555419921875),\n",
       " (3095, 151.58168029785156),\n",
       " (7043, 151.61358642578125),\n",
       " (5500, 151.66888427734375),\n",
       " (5613, 151.77276611328125),\n",
       " (6301, 151.88189697265625),\n",
       " (5890, 152.1690673828125),\n",
       " (540, 152.28231811523438),\n",
       " (9951, 152.41409301757812),\n",
       " (171, 152.41915893554688),\n",
       " (7865, 152.45040893554688),\n",
       " (9505, 152.47854614257812),\n",
       " (2065, 152.56646728515625),\n",
       " (762, 152.61732482910156),\n",
       " (2186, 152.81068420410156),\n",
       " (8400, 152.9129180908203),\n",
       " (649, 152.93020629882812),\n",
       " (4983, 152.9842071533203),\n",
       " (7042, 153.01051330566406),\n",
       " (5245, 153.03829956054688),\n",
       " (2278, 153.0926513671875),\n",
       " (609, 153.14703369140625),\n",
       " (3126, 153.23403930664062),\n",
       " (6393, 153.30552673339844),\n",
       " (950, 153.60391235351562),\n",
       " (1871, 153.6868133544922),\n",
       " (8731, 153.98638916015625),\n",
       " (1245, 154.013427734375),\n",
       " (8291, 154.26998901367188),\n",
       " (7755, 154.36090087890625),\n",
       " (5956, 154.38693237304688),\n",
       " (1757, 154.43190002441406),\n",
       " (3876, 154.45643615722656),\n",
       " (3581, 154.46511840820312),\n",
       " (4078, 154.51248168945312),\n",
       " (7307, 154.59295654296875),\n",
       " (3793, 154.6326141357422),\n",
       " (2265, 154.65158081054688),\n",
       " (7167, 154.65528869628906),\n",
       " (780, 154.65904235839844),\n",
       " (6597, 154.66281127929688),\n",
       " (4494, 154.69044494628906),\n",
       " (4969, 154.720947265625),\n",
       " (4393, 154.80172729492188)]"
      ]
     },
     "execution_count": 11,
     "metadata": {},
     "output_type": "execute_result"
    }
   ],
   "source": [
    "one_in_many.to_list()"
   ]
  },
  {
   "cell_type": "markdown",
   "metadata": {},
   "source": [
    "# Comparison with Scipy Spatial Distance"
   ]
  },
  {
   "cell_type": "code",
   "execution_count": 15,
   "metadata": {},
   "outputs": [],
   "source": [
    "# Another example to compare with scipy spatial.distance\n",
    "# Example vectors\n",
    "data = np.random.uniform(2,3,size=[10,5])\n",
    "vector =np.array([np.random.uniform(2,3,size=5)])\n"
   ]
  },
  {
   "cell_type": "code",
   "execution_count": 16,
   "metadata": {},
   "outputs": [],
   "source": [
    "result: BatchMatches = search(data, vector, 10, MetricKind.L2sq, exact=True)"
   ]
  },
  {
   "cell_type": "code",
   "execution_count": 17,
   "metadata": {},
   "outputs": [],
   "source": [
    "# get the indeces for ordering the pairwise distances\n",
    "ind = np.array(result.to_list())[:,0].astype('int64')"
   ]
  },
  {
   "cell_type": "code",
   "execution_count": 20,
   "metadata": {},
   "outputs": [
    {
     "data": {
      "text/plain": [
       "array([0, 1, 2, 3, 4, 5, 6, 7, 8, 9])"
      ]
     },
     "execution_count": 20,
     "metadata": {},
     "output_type": "execute_result"
    }
   ],
   "source": [
    "np.sort(ind)"
   ]
  },
  {
   "cell_type": "code",
   "execution_count": 21,
   "metadata": {},
   "outputs": [],
   "source": [
    "d = result.distances"
   ]
  },
  {
   "cell_type": "code",
   "execution_count": 22,
   "metadata": {},
   "outputs": [
    {
     "data": {
      "text/plain": [
       "array([0.98668766, 1.1879346 , 0.92372465, 0.92765003, 0.7264447 ,\n",
       "       1.1178962 , 1.0378267 , 0.57018626, 0.54452884, 0.49036872],\n",
       "      dtype=float32)"
      ]
     },
     "execution_count": 22,
     "metadata": {},
     "output_type": "execute_result"
    }
   ],
   "source": [
    "np.sqrt(d)[np.argsort(ind)]"
   ]
  },
  {
   "cell_type": "code",
   "execution_count": 25,
   "metadata": {},
   "outputs": [
    {
     "name": "stdout",
     "output_type": "stream",
     "text": [
      "Pairwise distances:\n",
      "[[0.98668764 0.98668766]\n",
      " [1.18793465 1.18793464]\n",
      " [0.92372463 0.92372465]\n",
      " [0.92765006 0.92765003]\n",
      " [0.72644471 0.72644472]\n",
      " [1.11789616 1.1178962 ]\n",
      " [1.03782662 1.03782666]\n",
      " [0.57018625 0.57018626]\n",
      " [0.54452885 0.54452884]\n",
      " [0.49036873 0.49036872]]\n"
     ]
    }
   ],
   "source": [
    "# Compute pairwise distances using Euclidean distance metric\n",
    "pairwise_distances = cdist(data, vector, metric='euclidean')\n",
    "\n",
    "print(\"Pairwise distances:\")\n",
    "print(np.column_stack([pairwise_distances,np.sqrt(d)[np.argsort(ind)]]))"
   ]
  },
  {
   "cell_type": "code",
   "execution_count": 26,
   "metadata": {},
   "outputs": [
    {
     "data": {
      "text/plain": [
       "(10, 1)"
      ]
     },
     "execution_count": 26,
     "metadata": {},
     "output_type": "execute_result"
    }
   ],
   "source": [
    "pairwise_distances.shape"
   ]
  },
  {
   "cell_type": "markdown",
   "metadata": {},
   "source": [
    "# FAISS is dangerous\n",
    "\n",
    "...and slower than USearch."
   ]
  },
  {
   "cell_type": "code",
   "execution_count": 27,
   "metadata": {},
   "outputs": [],
   "source": [
    "import faiss"
   ]
  },
  {
   "cell_type": "code",
   "execution_count": 28,
   "metadata": {},
   "outputs": [
    {
     "name": "stdout",
     "output_type": "stream",
     "text": [
      "Pairwise distances:\n",
      "[0.         0.52158684 0.5947299  0.71165293 0.7919805  1.0101306\n",
      " 1.0621352  1.3381842  1.3558803  1.4111887 ]\n"
     ]
    }
   ],
   "source": [
    "# Concatenate the vectors into a single array\n",
    "all_vectors = np.concatenate((data, vector.reshape(1,-1)), axis=0)\n",
    "\n",
    "# Initialize Faiss index\n",
    "d = all_vectors.shape[1]  # Dimension of vectors\n",
    "index = faiss.IndexFlatL2(d)  # L2 distance (Euclidean distance)\n",
    "\n",
    "# Add vectors to the index\n",
    "index.add(all_vectors)\n",
    "\n",
    "# Query for the nearest neighbors (in this case, excluding the vector itself)\n",
    "k = all_vectors.shape[0] - 1  # Return distances to all other vectors\n",
    "D, I = index.search(all_vectors, k)\n",
    "\n",
    "# The first row of D corresponds to distances from vector1 to all vectors,\n",
    "# and the second row corresponds to distances from vector2 to all vectors\n",
    "pairwise_distances = D[1]\n",
    "\n",
    "print(\"Pairwise distances:\")\n",
    "print(pairwise_distances)"
   ]
  },
  {
   "cell_type": "code",
   "execution_count": 52,
   "metadata": {},
   "outputs": [
    {
     "name": "stdout",
     "output_type": "stream",
     "text": [
      "Pairwise distances:\n",
      "[0.         0.29514208 0.30921572 0.32049134 0.32110634 0.45318595\n",
      " 0.69156986 0.7355278  0.94303757 1.1888701 ]\n"
     ]
    }
   ],
   "source": [
    "# Concatenate the vectors into a single array\n",
    "all_vectors = np.concatenate((vector1, vector2), axis=0)\n",
    "\n",
    "# Initialize Faiss index\n",
    "d = all_vectors.shape[1]  # Dimension of vectors\n",
    "index = faiss.IndexFlatL2(d)  # L2 distance (Euclidean distance)\n",
    "\n",
    "# Add vectors to the index\n",
    "index.add(all_vectors)\n",
    "\n",
    "# Query for the nearest neighbors (in this case, excluding the vector itself)\n",
    "k = all_vectors.shape[0] - 1  # Return distances to all other vectors\n",
    "D, I = index.search(all_vectors, k)\n",
    "\n",
    "# The first row of D corresponds to distances from vector1 to all vectors,\n",
    "# and the second row corresponds to distances from vector2 to all vectors\n",
    "pairwise_distances = D[1]\n",
    "\n",
    "print(\"Pairwise distances:\")\n",
    "print(pairwise_distances)\n"
   ]
  },
  {
   "cell_type": "markdown",
   "metadata": {},
   "source": [
    "# Excuse for FAISS performance\n",
    "\n",
    "https://medium.com/mlearning-ai/why-you-should-be-careful-using-faiss-c44996eda9ee"
   ]
  },
  {
   "cell_type": "code",
   "execution_count": null,
   "metadata": {},
   "outputs": [],
   "source": []
  }
 ],
 "metadata": {
  "kernelspec": {
   "display_name": "Python 3 (ipykernel)",
   "language": "python",
   "name": "python3"
  },
  "language_info": {
   "codemirror_mode": {
    "name": "ipython",
    "version": 3
   },
   "file_extension": ".py",
   "mimetype": "text/x-python",
   "name": "python",
   "nbconvert_exporter": "python",
   "pygments_lexer": "ipython3",
   "version": "3.11.5"
  }
 },
 "nbformat": 4,
 "nbformat_minor": 2
}
