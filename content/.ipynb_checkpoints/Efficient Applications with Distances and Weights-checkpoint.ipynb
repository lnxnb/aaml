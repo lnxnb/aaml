{
 "cells": [
  {
   "cell_type": "markdown",
   "id": "c099c50f",
   "metadata": {},
   "source": [
    "# Learning Objectives\n",
    "\n",
    "- Efficiently compute all the pairwise distances among different observations\n",
    "- Know how to use the weights with the distances  \n",
    "- Test the locally weighted regressors\n",
    "- We want to see how to boost their performance; this means boosting, such as gradient boosting"
   ]
  },
  {
   "cell_type": "code",
   "execution_count": 12,
   "id": "78a4f112",
   "metadata": {},
   "outputs": [],
   "source": [
    "# We will not use anything that we don't know. Graphical libraries are fine tho\n",
    "%matplotlib inline\n",
    "%config InlineBackend.figure_format = 'retina'\n",
    "import matplotlib.pyplot as plt\n",
    "import matplotlib as mpl\n",
    "mpl.rcParams['figure.dpi'] = 120\n",
    "\n",
    "import numpy as np\n",
    "import pandas as pd\n",
    "from sklearn import linear_model\n",
    "from sklearn.preprocessing import StandardScaler, MinMaxScaler\n",
    "from scipy.spatial import Delaunay\n",
    "from sklearn.ensemble import RandomForestRegressor\n",
    "from sklearn.model_selection import KFold, GridSearchCV\n",
    "from sklearn.metrics import mean_squared_error as mse\n",
    "from scipy import linalg\n",
    "from scipy.interpolate import interp1d, LinearNDInterpolator, NearestNDInterpolator\n",
    "from sklearn.decomposition import PCA\n",
    "\n",
    "from sklearn.base import BaseEstimator, RegressorMixin\n",
    "from sklearn.utils.validation import check_X_y, check_array, check_is_fitted"
   ]
  },
  {
   "cell_type": "code",
   "execution_count": 13,
   "id": "55a46721",
   "metadata": {},
   "outputs": [],
   "source": [
    "# Gaussian Kernel\n",
    "def Gaussian(x):\n",
    "  return np.where(np.abs(x)>4,0,1/(np.sqrt(2*np.pi))*np.exp(-1/2*x**2))"
   ]
  },
  {
   "cell_type": "code",
   "execution_count": 14,
   "id": "10715f55",
   "metadata": {},
   "outputs": [],
   "source": [
    "# this is the correct vectorized version\n",
    "def tricubic(x):\n",
    "  return np.where(np.abs(x)>1,0,(1-np.abs(x)**3)**3)"
   ]
  },
  {
   "cell_type": "code",
   "execution_count": 15,
   "id": "7db30cc4",
   "metadata": {},
   "outputs": [],
   "source": [
    "# Epanechnikov Kernel\n",
    "def Epanechnikov(x):\n",
    "  return np.where(np.abs(x)>1,0,3/4*(1-np.abs(x)**2))"
   ]
  },
  {
   "cell_type": "code",
   "execution_count": 16,
   "id": "cebd5ebd",
   "metadata": {},
   "outputs": [],
   "source": [
    "# Quartic Kernel\n",
    "def Quartic(x):\n",
    "  return np.where(np.abs(x)>1,0,15/16*(1-np.abs(x)**2)**2)"
   ]
  },
  {
   "cell_type": "code",
   "execution_count": 24,
   "id": "34d2a5ff",
   "metadata": {},
   "outputs": [],
   "source": [
    "#real data application will be cars and concrete\n",
    "data = pd.read_csv('01intro/cars.csv')\n",
    "x = data.drop(columns=['MPG'])\n",
    "x\n",
    "y = data['MPG'].values"
   ]
  },
  {
   "cell_type": "markdown",
   "id": "f37f7342",
   "metadata": {},
   "source": [
    "# Compute all pairwise distances efficiently\n",
    "\n",
    "this means we build a general case, assuming two matrices, we want to compute all the pairwise distances between the rows of matrix 1 and the rows of matrix 2"
   ]
  },
  {
   "cell_type": "code",
   "execution_count": 27,
   "id": "065760fd",
   "metadata": {},
   "outputs": [],
   "source": [
    "u = np.array(np.random.uniform(2,5,5))\n",
    "v = np.array(np.random.uniform(1,2,5))"
   ]
  },
  {
   "cell_type": "code",
   "execution_count": 29,
   "id": "6ee45ccc",
   "metadata": {},
   "outputs": [
    {
     "data": {
      "text/plain": [
       "(5,)"
      ]
     },
     "execution_count": 29,
     "metadata": {},
     "output_type": "execute_result"
    }
   ],
   "source": [
    "v.shape # this may create a problem"
   ]
  },
  {
   "cell_type": "code",
   "execution_count": 47,
   "id": "fb702743",
   "metadata": {},
   "outputs": [
    {
     "data": {
      "text/plain": [
       "(10, 5)"
      ]
     },
     "execution_count": 47,
     "metadata": {},
     "output_type": "execute_result"
    }
   ],
   "source": [
    "u = np.array(np.random.uniform(2,5,(10,5)))\n",
    "v = np.random.uniform(1,2,(20,5))\n",
    "u.shape"
   ]
  },
  {
   "cell_type": "code",
   "execution_count": 37,
   "id": "5aff4fc9",
   "metadata": {},
   "outputs": [],
   "source": [
    "# let's show a simple code for defining a distance function\n",
    "def dist(u,v):\n",
    "    D = []\n",
    "    #check if v is one dimensional\n",
    "    if len(v.shape) == 1:\n",
    "        v = v.reshape(1,-1)\n",
    "        \n",
    "    # we would like all the pairwise combinations if u and v\n",
    "    # we can avoid two for loops if we consider broadcasting\n",
    "    for rowj in v:\n",
    "        D.append(np.sqrt(np.sum((u-rowj)**2,axis=1)))\n",
    "    return np.array(D)"
   ]
  },
  {
   "cell_type": "code",
   "execution_count": 48,
   "id": "51a0bb61",
   "metadata": {},
   "outputs": [],
   "source": [
    "D = dist(u,v)"
   ]
  },
  {
   "cell_type": "code",
   "execution_count": 50,
   "id": "d8525ab1",
   "metadata": {},
   "outputs": [
    {
     "data": {
      "text/plain": [
       "(20, 10)"
      ]
     },
     "execution_count": 50,
     "metadata": {},
     "output_type": "execute_result"
    }
   ],
   "source": [
    "D.shape"
   ]
  },
  {
   "cell_type": "code",
   "execution_count": 52,
   "id": "ec42f8cb",
   "metadata": {},
   "outputs": [
    {
     "data": {
      "text/plain": [
       "array([[4.63248702, 4.1699141 , 5.52608987, 4.37344276, 3.12930538,\n",
       "        4.94745523, 4.05004022, 5.08583698, 4.79554223, 4.77980935],\n",
       "       [5.09765899, 4.53054111, 5.71386963, 4.93864576, 3.42593976,\n",
       "        5.28518473, 4.43588842, 5.29311717, 5.16565758, 5.23386493],\n",
       "       [5.18333559, 4.28870189, 5.65908747, 4.93588931, 3.22401487,\n",
       "        5.33573561, 4.52719372, 5.0474132 , 4.91587181, 5.04875515],\n",
       "       [4.91322688, 4.14351438, 5.3677738 , 4.68731969, 3.07252387,\n",
       "        5.04253374, 4.25426228, 4.82601106, 4.7754398 , 4.8673791 ],\n",
       "       [5.48030155, 4.87819933, 6.26892062, 5.14199875, 3.6766575 ,\n",
       "        5.80970359, 4.80066829, 5.55859633, 5.48056815, 5.29658865],\n",
       "       [5.10171964, 4.24472274, 5.67483402, 4.82549325, 3.01522623,\n",
       "        5.35255147, 4.39804027, 4.94134631, 4.83515905, 4.82462075],\n",
       "       [5.39433053, 4.23044565, 6.02715596, 5.11203023, 3.51218954,\n",
       "        5.56344086, 4.89905093, 5.49562578, 4.88006834, 5.33465673],\n",
       "       [4.90597849, 3.96493363, 5.5403212 , 4.68960745, 2.95806555,\n",
       "        5.12567788, 4.30538351, 5.00196251, 4.58640406, 4.84724943],\n",
       "       [5.12916552, 4.41751712, 5.79051692, 4.62663434, 3.31964184,\n",
       "        5.39134308, 4.48837247, 4.93500509, 5.0334203 , 4.76026566],\n",
       "       [5.23808108, 4.23238128, 5.91263009, 4.88857344, 3.56400156,\n",
       "        5.39569461, 4.77482224, 5.4061214 , 4.90390995, 5.24211564],\n",
       "       [5.3280978 , 4.59824075, 6.07278397, 4.96212817, 3.55096109,\n",
       "        5.59951333, 4.7131241 , 5.40341846, 5.22768171, 5.18155274],\n",
       "       [5.15719252, 4.08263408, 5.85471863, 4.93389042, 3.37230541,\n",
       "        5.34242903, 4.67930172, 5.43082797, 4.73437941, 5.23136743],\n",
       "       [5.11782758, 4.23034943, 5.61295079, 4.94853228, 3.23747769,\n",
       "        5.25088388, 4.49346152, 5.14247393, 4.86783279, 5.14050386],\n",
       "       [5.31426348, 4.23150934, 5.82991104, 4.85576234, 3.34045878,\n",
       "        5.48177995, 4.73803682, 5.012233  , 4.86531434, 4.9368461 ],\n",
       "       [4.83178263, 3.70259065, 5.43741479, 4.57133621, 3.11041551,\n",
       "        4.9498992 , 4.39460781, 5.03378138, 4.37537577, 4.91140125],\n",
       "       [5.28575977, 4.54654981, 6.06195711, 4.86053086, 3.53011959,\n",
       "        5.57227783, 4.6910951 , 5.3457743 , 5.17561961, 5.08610312],\n",
       "       [5.0841878 , 4.62248266, 5.81804344, 4.75228246, 3.44654941,\n",
       "        5.35947987, 4.40972666, 5.19530969, 5.24354473, 5.01944664],\n",
       "       [5.17322335, 4.22194912, 5.75644407, 4.72988697, 3.300761  ,\n",
       "        5.36276112, 4.59562005, 4.99911548, 4.86116499, 4.88593624],\n",
       "       [5.10043302, 4.07242535, 5.62579938, 4.92356547, 3.03620009,\n",
       "        5.28341067, 4.469326  , 5.06950042, 4.68391363, 4.99723814],\n",
       "       [5.53778231, 4.71625501, 6.14568229, 5.15110368, 3.91034043,\n",
       "        5.67891366, 5.00415616, 5.5669832 , 5.38399667, 5.48877305]])"
      ]
     },
     "execution_count": 52,
     "metadata": {},
     "output_type": "execute_result"
    }
   ],
   "source": [
    "D"
   ]
  },
  {
   "cell_type": "code",
   "execution_count": null,
   "id": "51d7fdb4",
   "metadata": {},
   "outputs": [],
   "source": [
    "Tricubic(D,tau=0.5)"
   ]
  }
 ],
 "metadata": {
  "kernelspec": {
   "display_name": "Python 3 (ipykernel)",
   "language": "python",
   "name": "python3"
  },
  "language_info": {
   "codemirror_mode": {
    "name": "ipython",
    "version": 3
   },
   "file_extension": ".py",
   "mimetype": "text/x-python",
   "name": "python",
   "nbconvert_exporter": "python",
   "pygments_lexer": "ipython3",
   "version": "3.11.5"
  }
 },
 "nbformat": 4,
 "nbformat_minor": 5
}
