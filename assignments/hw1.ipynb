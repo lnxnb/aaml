{
 "cells": [
  {
   "cell_type": "markdown",
   "id": "2c497dab",
   "metadata": {},
   "source": [
    "## Coding problem: \n",
    "\n",
    "Implement a gradient descent method for Ridge Regression by using the PyTorch library. Your implementation should be a class that has the required methods “.fit” and “.predict”. You should include an application of your code to a data set."
   ]
  },
  {
   "cell_type": "code",
   "execution_count": 3,
   "id": "d0533a3e",
   "metadata": {},
   "outputs": [],
   "source": [
    "import torch"
   ]
  },
  {
   "cell_type": "code",
   "execution_count": null,
   "id": "2aedeb7b",
   "metadata": {},
   "outputs": [],
   "source": [
    "class CustomRidgeModel:\n",
    "    \n",
    "    def __init__(self):\n",
    "        "
   ]
  }
 ],
 "metadata": {
  "kernelspec": {
   "display_name": "Python 3 (ipykernel)",
   "language": "python",
   "name": "python3"
  },
  "language_info": {
   "codemirror_mode": {
    "name": "ipython",
    "version": 3
   },
   "file_extension": ".py",
   "mimetype": "text/x-python",
   "name": "python",
   "nbconvert_exporter": "python",
   "pygments_lexer": "ipython3",
   "version": "3.11.5"
  }
 },
 "nbformat": 4,
 "nbformat_minor": 5
}
